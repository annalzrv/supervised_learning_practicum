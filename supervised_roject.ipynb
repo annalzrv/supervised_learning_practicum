{
 "cells": [
  {
   "cell_type": "markdown",
   "metadata": {
    "toc": true
   },
   "source": [
    "<h1>Содержание<span class=\"tocSkip\"></span></h1>\n",
    "<div class=\"toc\"><ul class=\"toc-item\"><li><span><a href=\"#Подготовка-данных\" data-toc-modified-id=\"Подготовка-данных-1\"><span class=\"toc-item-num\">1&nbsp;&nbsp;</span>Подготовка данных</a></span></li><li><span><a href=\"#Исследование-задачи\" data-toc-modified-id=\"Исследование-задачи-2\"><span class=\"toc-item-num\">2&nbsp;&nbsp;</span>Исследование задачи</a></span></li><li><span><a href=\"#Борьба-с-дисбалансом\" data-toc-modified-id=\"Борьба-с-дисбалансом-3\"><span class=\"toc-item-num\">3&nbsp;&nbsp;</span>Борьба с дисбалансом</a></span></li><li><span><a href=\"#Тестирование-модели\" data-toc-modified-id=\"Тестирование-модели-4\"><span class=\"toc-item-num\">4&nbsp;&nbsp;</span>Тестирование модели</a></span></li><li><span><a href=\"#Чек-лист-готовности-проекта\" data-toc-modified-id=\"Чек-лист-готовности-проекта-5\"><span class=\"toc-item-num\">5&nbsp;&nbsp;</span>Чек-лист готовности проекта</a></span></li></ul></div>"
   ]
  },
  {
   "cell_type": "markdown",
   "metadata": {},
   "source": [
    "Ссылка на github репозиторий: https://github.com/annalzrv/supervised_learning_practicum"
   ]
  },
  {
   "cell_type": "markdown",
   "metadata": {},
   "source": [
    "# Отток клиентов"
   ]
  },
  {
   "cell_type": "markdown",
   "metadata": {},
   "source": [
    "Из «Бета-Банка» стали уходить клиенты. Каждый месяц. Немного, но заметно. Банковские маркетологи посчитали: сохранять текущих клиентов дешевле, чем привлекать новых.\n",
    "\n",
    "Нужно спрогнозировать, уйдёт клиент из банка в ближайшее время или нет. Вам предоставлены исторические данные о поведении клиентов и расторжении договоров с банком. \n",
    "\n",
    "Постройте модель с предельно большим значением *F1*-меры. Чтобы сдать проект успешно, нужно довести метрику до 0.59. Проверьте *F1*-меру на тестовой выборке самостоятельно.\n",
    "\n",
    "Дополнительно измеряйте *AUC-ROC*, сравнивайте её значение с *F1*-мерой.\n",
    "\n",
    "Источник данных: [https://www.kaggle.com/barelydedicated/bank-customer-churn-modeling](https://www.kaggle.com/barelydedicated/bank-customer-churn-modeling)"
   ]
  },
  {
   "cell_type": "markdown",
   "metadata": {},
   "source": [
    "<a id='nav'></a>\n",
    "**Цель исследования** - построить систему, способную спрогнозировать, уйдёт ли клиент из банка на основе данных о поведении клиентов и расторжении договора с банком.\n",
    "\n",
    "**Ход исследования:**\n",
    "\n",
    "Данные для исследования получим из файла `/datasets/Churn.csv`.\n",
    "\n",
    "Проведём исследование в четыре этапа:\n",
    "\n",
    "[1. Подготовка и обзор данных](#step1)<br>\n",
    "[2. Подготовка признаков, исследование дисбаланса классов](#step2)<br>\n",
    "[3. Борьба с дисбалансом, исследование ROC-кривых](#step3)<br>\n",
    "[4. Проверка модели на тестовой выборке](#step4)<br>"
   ]
  },
  {
   "cell_type": "markdown",
   "metadata": {},
   "source": [
    "## Подготовка данных\n",
    "<a id='step1'></a>\n",
    "[Вернуться к навигации](#nav)"
   ]
  },
  {
   "cell_type": "code",
   "execution_count": 1,
   "metadata": {},
   "outputs": [],
   "source": [
    "import pandas as pd\n",
    "import seaborn as sns\n",
    "import matplotlib.pyplot as plt\n",
    "from sklearn.model_selection import train_test_split\n",
    "from sklearn.preprocessing import OneHotEncoder\n",
    "from sklearn.preprocessing import OrdinalEncoder\n",
    "from sklearn.preprocessing import StandardScaler\n",
    "from sklearn.tree import DecisionTreeClassifier\n",
    "from sklearn.ensemble import RandomForestClassifier\n",
    "from sklearn.linear_model import LogisticRegression\n",
    "from sklearn.metrics import mean_absolute_error\n",
    "from sklearn.metrics import f1_score\n",
    "from sklearn.metrics import accuracy_score\n",
    "from sklearn.metrics import confusion_matrix\n",
    "from sklearn.utils import shuffle\n",
    "from sklearn.metrics import precision_recall_curve\n",
    "from sklearn.metrics import roc_auc_score\n",
    "from sklearn.metrics import roc_curve"
   ]
  },
  {
   "cell_type": "markdown",
   "metadata": {},
   "source": [
    "Откроем файл и изучим данные."
   ]
  },
  {
   "cell_type": "code",
   "execution_count": 2,
   "metadata": {},
   "outputs": [],
   "source": [
    "data = pd.read_csv('Churn.csv')"
   ]
  },
  {
   "cell_type": "code",
   "execution_count": 3,
   "metadata": {},
   "outputs": [
    {
     "data": {
      "text/html": [
       "<div>\n",
       "<style scoped>\n",
       "    .dataframe tbody tr th:only-of-type {\n",
       "        vertical-align: middle;\n",
       "    }\n",
       "\n",
       "    .dataframe tbody tr th {\n",
       "        vertical-align: top;\n",
       "    }\n",
       "\n",
       "    .dataframe thead th {\n",
       "        text-align: right;\n",
       "    }\n",
       "</style>\n",
       "<table border=\"1\" class=\"dataframe\">\n",
       "  <thead>\n",
       "    <tr style=\"text-align: right;\">\n",
       "      <th></th>\n",
       "      <th>RowNumber</th>\n",
       "      <th>CustomerId</th>\n",
       "      <th>Surname</th>\n",
       "      <th>CreditScore</th>\n",
       "      <th>Geography</th>\n",
       "      <th>Gender</th>\n",
       "      <th>Age</th>\n",
       "      <th>Tenure</th>\n",
       "      <th>Balance</th>\n",
       "      <th>NumOfProducts</th>\n",
       "      <th>HasCrCard</th>\n",
       "      <th>IsActiveMember</th>\n",
       "      <th>EstimatedSalary</th>\n",
       "      <th>Exited</th>\n",
       "    </tr>\n",
       "  </thead>\n",
       "  <tbody>\n",
       "    <tr>\n",
       "      <th>0</th>\n",
       "      <td>1</td>\n",
       "      <td>15634602</td>\n",
       "      <td>Hargrave</td>\n",
       "      <td>619</td>\n",
       "      <td>France</td>\n",
       "      <td>Female</td>\n",
       "      <td>42</td>\n",
       "      <td>2.0</td>\n",
       "      <td>0.00</td>\n",
       "      <td>1</td>\n",
       "      <td>1</td>\n",
       "      <td>1</td>\n",
       "      <td>101348.88</td>\n",
       "      <td>1</td>\n",
       "    </tr>\n",
       "    <tr>\n",
       "      <th>1</th>\n",
       "      <td>2</td>\n",
       "      <td>15647311</td>\n",
       "      <td>Hill</td>\n",
       "      <td>608</td>\n",
       "      <td>Spain</td>\n",
       "      <td>Female</td>\n",
       "      <td>41</td>\n",
       "      <td>1.0</td>\n",
       "      <td>83807.86</td>\n",
       "      <td>1</td>\n",
       "      <td>0</td>\n",
       "      <td>1</td>\n",
       "      <td>112542.58</td>\n",
       "      <td>0</td>\n",
       "    </tr>\n",
       "    <tr>\n",
       "      <th>2</th>\n",
       "      <td>3</td>\n",
       "      <td>15619304</td>\n",
       "      <td>Onio</td>\n",
       "      <td>502</td>\n",
       "      <td>France</td>\n",
       "      <td>Female</td>\n",
       "      <td>42</td>\n",
       "      <td>8.0</td>\n",
       "      <td>159660.80</td>\n",
       "      <td>3</td>\n",
       "      <td>1</td>\n",
       "      <td>0</td>\n",
       "      <td>113931.57</td>\n",
       "      <td>1</td>\n",
       "    </tr>\n",
       "    <tr>\n",
       "      <th>3</th>\n",
       "      <td>4</td>\n",
       "      <td>15701354</td>\n",
       "      <td>Boni</td>\n",
       "      <td>699</td>\n",
       "      <td>France</td>\n",
       "      <td>Female</td>\n",
       "      <td>39</td>\n",
       "      <td>1.0</td>\n",
       "      <td>0.00</td>\n",
       "      <td>2</td>\n",
       "      <td>0</td>\n",
       "      <td>0</td>\n",
       "      <td>93826.63</td>\n",
       "      <td>0</td>\n",
       "    </tr>\n",
       "    <tr>\n",
       "      <th>4</th>\n",
       "      <td>5</td>\n",
       "      <td>15737888</td>\n",
       "      <td>Mitchell</td>\n",
       "      <td>850</td>\n",
       "      <td>Spain</td>\n",
       "      <td>Female</td>\n",
       "      <td>43</td>\n",
       "      <td>2.0</td>\n",
       "      <td>125510.82</td>\n",
       "      <td>1</td>\n",
       "      <td>1</td>\n",
       "      <td>1</td>\n",
       "      <td>79084.10</td>\n",
       "      <td>0</td>\n",
       "    </tr>\n",
       "  </tbody>\n",
       "</table>\n",
       "</div>"
      ],
      "text/plain": [
       "   RowNumber  CustomerId   Surname  CreditScore Geography  Gender  Age  \\\n",
       "0          1    15634602  Hargrave          619    France  Female   42   \n",
       "1          2    15647311      Hill          608     Spain  Female   41   \n",
       "2          3    15619304      Onio          502    France  Female   42   \n",
       "3          4    15701354      Boni          699    France  Female   39   \n",
       "4          5    15737888  Mitchell          850     Spain  Female   43   \n",
       "\n",
       "   Tenure    Balance  NumOfProducts  HasCrCard  IsActiveMember  \\\n",
       "0     2.0       0.00              1          1               1   \n",
       "1     1.0   83807.86              1          0               1   \n",
       "2     8.0  159660.80              3          1               0   \n",
       "3     1.0       0.00              2          0               0   \n",
       "4     2.0  125510.82              1          1               1   \n",
       "\n",
       "   EstimatedSalary  Exited  \n",
       "0        101348.88       1  \n",
       "1        112542.58       0  \n",
       "2        113931.57       1  \n",
       "3         93826.63       0  \n",
       "4         79084.10       0  "
      ]
     },
     "execution_count": 3,
     "metadata": {},
     "output_type": "execute_result"
    }
   ],
   "source": [
    "data.head()"
   ]
  },
  {
   "cell_type": "code",
   "execution_count": 4,
   "metadata": {
    "scrolled": true
   },
   "outputs": [
    {
     "name": "stdout",
     "output_type": "stream",
     "text": [
      "<class 'pandas.core.frame.DataFrame'>\n",
      "RangeIndex: 10000 entries, 0 to 9999\n",
      "Data columns (total 14 columns):\n",
      " #   Column           Non-Null Count  Dtype  \n",
      "---  ------           --------------  -----  \n",
      " 0   RowNumber        10000 non-null  int64  \n",
      " 1   CustomerId       10000 non-null  int64  \n",
      " 2   Surname          10000 non-null  object \n",
      " 3   CreditScore      10000 non-null  int64  \n",
      " 4   Geography        10000 non-null  object \n",
      " 5   Gender           10000 non-null  object \n",
      " 6   Age              10000 non-null  int64  \n",
      " 7   Tenure           9091 non-null   float64\n",
      " 8   Balance          10000 non-null  float64\n",
      " 9   NumOfProducts    10000 non-null  int64  \n",
      " 10  HasCrCard        10000 non-null  int64  \n",
      " 11  IsActiveMember   10000 non-null  int64  \n",
      " 12  EstimatedSalary  10000 non-null  float64\n",
      " 13  Exited           10000 non-null  int64  \n",
      "dtypes: float64(3), int64(8), object(3)\n",
      "memory usage: 1.1+ MB\n"
     ]
    }
   ],
   "source": [
    "data.info()"
   ]
  },
  {
   "cell_type": "markdown",
   "metadata": {},
   "source": [
    "Заметим, что в каждом столбце по 10000 ненулевых строк, за ислючением `Tenure`. Рассмотрим эти пропусти поближе. "
   ]
  },
  {
   "cell_type": "code",
   "execution_count": 5,
   "metadata": {},
   "outputs": [
    {
     "data": {
      "text/html": [
       "<style type=\"text/css\">\n",
       "#T_e312b_row0_col0, #T_e312b_row1_col0, #T_e312b_row2_col0, #T_e312b_row3_col0, #T_e312b_row4_col0, #T_e312b_row5_col0, #T_e312b_row6_col0, #T_e312b_row8_col0, #T_e312b_row9_col0, #T_e312b_row10_col0, #T_e312b_row11_col0, #T_e312b_row12_col0, #T_e312b_row13_col0 {\n",
       "  background-color: #3b4cc0;\n",
       "  color: #f1f1f1;\n",
       "}\n",
       "#T_e312b_row7_col0 {\n",
       "  background-color: #b40426;\n",
       "  color: #f1f1f1;\n",
       "}\n",
       "</style>\n",
       "<table id=\"T_e312b\">\n",
       "  <thead>\n",
       "    <tr>\n",
       "      <th class=\"blank level0\" >&nbsp;</th>\n",
       "      <th id=\"T_e312b_level0_col0\" class=\"col_heading level0 col0\" >0</th>\n",
       "    </tr>\n",
       "  </thead>\n",
       "  <tbody>\n",
       "    <tr>\n",
       "      <th id=\"T_e312b_level0_row0\" class=\"row_heading level0 row0\" >RowNumber</th>\n",
       "      <td id=\"T_e312b_row0_col0\" class=\"data row0 col0\" >0</td>\n",
       "    </tr>\n",
       "    <tr>\n",
       "      <th id=\"T_e312b_level0_row1\" class=\"row_heading level0 row1\" >CustomerId</th>\n",
       "      <td id=\"T_e312b_row1_col0\" class=\"data row1 col0\" >0</td>\n",
       "    </tr>\n",
       "    <tr>\n",
       "      <th id=\"T_e312b_level0_row2\" class=\"row_heading level0 row2\" >Surname</th>\n",
       "      <td id=\"T_e312b_row2_col0\" class=\"data row2 col0\" >0</td>\n",
       "    </tr>\n",
       "    <tr>\n",
       "      <th id=\"T_e312b_level0_row3\" class=\"row_heading level0 row3\" >CreditScore</th>\n",
       "      <td id=\"T_e312b_row3_col0\" class=\"data row3 col0\" >0</td>\n",
       "    </tr>\n",
       "    <tr>\n",
       "      <th id=\"T_e312b_level0_row4\" class=\"row_heading level0 row4\" >Geography</th>\n",
       "      <td id=\"T_e312b_row4_col0\" class=\"data row4 col0\" >0</td>\n",
       "    </tr>\n",
       "    <tr>\n",
       "      <th id=\"T_e312b_level0_row5\" class=\"row_heading level0 row5\" >Gender</th>\n",
       "      <td id=\"T_e312b_row5_col0\" class=\"data row5 col0\" >0</td>\n",
       "    </tr>\n",
       "    <tr>\n",
       "      <th id=\"T_e312b_level0_row6\" class=\"row_heading level0 row6\" >Age</th>\n",
       "      <td id=\"T_e312b_row6_col0\" class=\"data row6 col0\" >0</td>\n",
       "    </tr>\n",
       "    <tr>\n",
       "      <th id=\"T_e312b_level0_row7\" class=\"row_heading level0 row7\" >Tenure</th>\n",
       "      <td id=\"T_e312b_row7_col0\" class=\"data row7 col0\" >9</td>\n",
       "    </tr>\n",
       "    <tr>\n",
       "      <th id=\"T_e312b_level0_row8\" class=\"row_heading level0 row8\" >Balance</th>\n",
       "      <td id=\"T_e312b_row8_col0\" class=\"data row8 col0\" >0</td>\n",
       "    </tr>\n",
       "    <tr>\n",
       "      <th id=\"T_e312b_level0_row9\" class=\"row_heading level0 row9\" >NumOfProducts</th>\n",
       "      <td id=\"T_e312b_row9_col0\" class=\"data row9 col0\" >0</td>\n",
       "    </tr>\n",
       "    <tr>\n",
       "      <th id=\"T_e312b_level0_row10\" class=\"row_heading level0 row10\" >HasCrCard</th>\n",
       "      <td id=\"T_e312b_row10_col0\" class=\"data row10 col0\" >0</td>\n",
       "    </tr>\n",
       "    <tr>\n",
       "      <th id=\"T_e312b_level0_row11\" class=\"row_heading level0 row11\" >IsActiveMember</th>\n",
       "      <td id=\"T_e312b_row11_col0\" class=\"data row11 col0\" >0</td>\n",
       "    </tr>\n",
       "    <tr>\n",
       "      <th id=\"T_e312b_level0_row12\" class=\"row_heading level0 row12\" >EstimatedSalary</th>\n",
       "      <td id=\"T_e312b_row12_col0\" class=\"data row12 col0\" >0</td>\n",
       "    </tr>\n",
       "    <tr>\n",
       "      <th id=\"T_e312b_level0_row13\" class=\"row_heading level0 row13\" >Exited</th>\n",
       "      <td id=\"T_e312b_row13_col0\" class=\"data row13 col0\" >0</td>\n",
       "    </tr>\n",
       "  </tbody>\n",
       "</table>\n"
      ],
      "text/plain": [
       "<pandas.io.formats.style.Styler at 0x7f93803acca0>"
      ]
     },
     "execution_count": 5,
     "metadata": {},
     "output_type": "execute_result"
    }
   ],
   "source": [
    "pd.DataFrame(round(data.isna().mean()*100,).astype('int')).style.background_gradient('coolwarm')"
   ]
  },
  {
   "cell_type": "markdown",
   "metadata": {},
   "source": [
    "В `Tenure` указано, сколько лет человек является клиентом банка. В столбце пропущено 9% значений. Возможно, это клиенты, которые с банком меньше года. Тогда в данных не должно быть данных о клиентах со значением `Tenure` = 0. Проверим эту гипотезу."
   ]
  },
  {
   "cell_type": "code",
   "execution_count": 6,
   "metadata": {},
   "outputs": [
    {
     "data": {
      "text/html": [
       "<div>\n",
       "<style scoped>\n",
       "    .dataframe tbody tr th:only-of-type {\n",
       "        vertical-align: middle;\n",
       "    }\n",
       "\n",
       "    .dataframe tbody tr th {\n",
       "        vertical-align: top;\n",
       "    }\n",
       "\n",
       "    .dataframe thead th {\n",
       "        text-align: right;\n",
       "    }\n",
       "</style>\n",
       "<table border=\"1\" class=\"dataframe\">\n",
       "  <thead>\n",
       "    <tr style=\"text-align: right;\">\n",
       "      <th></th>\n",
       "      <th>RowNumber</th>\n",
       "      <th>CustomerId</th>\n",
       "      <th>Surname</th>\n",
       "      <th>CreditScore</th>\n",
       "      <th>Geography</th>\n",
       "      <th>Gender</th>\n",
       "      <th>Age</th>\n",
       "      <th>Tenure</th>\n",
       "      <th>Balance</th>\n",
       "      <th>NumOfProducts</th>\n",
       "      <th>HasCrCard</th>\n",
       "      <th>IsActiveMember</th>\n",
       "      <th>EstimatedSalary</th>\n",
       "      <th>Exited</th>\n",
       "    </tr>\n",
       "  </thead>\n",
       "  <tbody>\n",
       "    <tr>\n",
       "      <th>29</th>\n",
       "      <td>30</td>\n",
       "      <td>15656300</td>\n",
       "      <td>Lucciano</td>\n",
       "      <td>411</td>\n",
       "      <td>France</td>\n",
       "      <td>Male</td>\n",
       "      <td>29</td>\n",
       "      <td>0.0</td>\n",
       "      <td>59697.17</td>\n",
       "      <td>2</td>\n",
       "      <td>1</td>\n",
       "      <td>1</td>\n",
       "      <td>53483.21</td>\n",
       "      <td>0</td>\n",
       "    </tr>\n",
       "    <tr>\n",
       "      <th>35</th>\n",
       "      <td>36</td>\n",
       "      <td>15794171</td>\n",
       "      <td>Lombardo</td>\n",
       "      <td>475</td>\n",
       "      <td>France</td>\n",
       "      <td>Female</td>\n",
       "      <td>45</td>\n",
       "      <td>0.0</td>\n",
       "      <td>134264.04</td>\n",
       "      <td>1</td>\n",
       "      <td>1</td>\n",
       "      <td>0</td>\n",
       "      <td>27822.99</td>\n",
       "      <td>1</td>\n",
       "    </tr>\n",
       "    <tr>\n",
       "      <th>57</th>\n",
       "      <td>58</td>\n",
       "      <td>15647091</td>\n",
       "      <td>Endrizzi</td>\n",
       "      <td>725</td>\n",
       "      <td>Germany</td>\n",
       "      <td>Male</td>\n",
       "      <td>19</td>\n",
       "      <td>0.0</td>\n",
       "      <td>75888.20</td>\n",
       "      <td>1</td>\n",
       "      <td>0</td>\n",
       "      <td>0</td>\n",
       "      <td>45613.75</td>\n",
       "      <td>0</td>\n",
       "    </tr>\n",
       "    <tr>\n",
       "      <th>72</th>\n",
       "      <td>73</td>\n",
       "      <td>15812518</td>\n",
       "      <td>Palermo</td>\n",
       "      <td>657</td>\n",
       "      <td>Spain</td>\n",
       "      <td>Female</td>\n",
       "      <td>37</td>\n",
       "      <td>0.0</td>\n",
       "      <td>163607.18</td>\n",
       "      <td>1</td>\n",
       "      <td>0</td>\n",
       "      <td>1</td>\n",
       "      <td>44203.55</td>\n",
       "      <td>0</td>\n",
       "    </tr>\n",
       "    <tr>\n",
       "      <th>127</th>\n",
       "      <td>128</td>\n",
       "      <td>15782688</td>\n",
       "      <td>Piccio</td>\n",
       "      <td>625</td>\n",
       "      <td>Germany</td>\n",
       "      <td>Male</td>\n",
       "      <td>56</td>\n",
       "      <td>0.0</td>\n",
       "      <td>148507.24</td>\n",
       "      <td>1</td>\n",
       "      <td>1</td>\n",
       "      <td>0</td>\n",
       "      <td>46824.08</td>\n",
       "      <td>1</td>\n",
       "    </tr>\n",
       "    <tr>\n",
       "      <th>...</th>\n",
       "      <td>...</td>\n",
       "      <td>...</td>\n",
       "      <td>...</td>\n",
       "      <td>...</td>\n",
       "      <td>...</td>\n",
       "      <td>...</td>\n",
       "      <td>...</td>\n",
       "      <td>...</td>\n",
       "      <td>...</td>\n",
       "      <td>...</td>\n",
       "      <td>...</td>\n",
       "      <td>...</td>\n",
       "      <td>...</td>\n",
       "      <td>...</td>\n",
       "    </tr>\n",
       "    <tr>\n",
       "      <th>9793</th>\n",
       "      <td>9794</td>\n",
       "      <td>15772363</td>\n",
       "      <td>Hilton</td>\n",
       "      <td>772</td>\n",
       "      <td>Germany</td>\n",
       "      <td>Female</td>\n",
       "      <td>42</td>\n",
       "      <td>0.0</td>\n",
       "      <td>101979.16</td>\n",
       "      <td>1</td>\n",
       "      <td>1</td>\n",
       "      <td>0</td>\n",
       "      <td>90928.48</td>\n",
       "      <td>0</td>\n",
       "    </tr>\n",
       "    <tr>\n",
       "      <th>9799</th>\n",
       "      <td>9800</td>\n",
       "      <td>15722731</td>\n",
       "      <td>Manna</td>\n",
       "      <td>653</td>\n",
       "      <td>France</td>\n",
       "      <td>Male</td>\n",
       "      <td>46</td>\n",
       "      <td>0.0</td>\n",
       "      <td>119556.10</td>\n",
       "      <td>1</td>\n",
       "      <td>1</td>\n",
       "      <td>0</td>\n",
       "      <td>78250.13</td>\n",
       "      <td>1</td>\n",
       "    </tr>\n",
       "    <tr>\n",
       "      <th>9843</th>\n",
       "      <td>9844</td>\n",
       "      <td>15778304</td>\n",
       "      <td>Fan</td>\n",
       "      <td>646</td>\n",
       "      <td>Germany</td>\n",
       "      <td>Male</td>\n",
       "      <td>24</td>\n",
       "      <td>0.0</td>\n",
       "      <td>92398.08</td>\n",
       "      <td>1</td>\n",
       "      <td>1</td>\n",
       "      <td>1</td>\n",
       "      <td>18897.29</td>\n",
       "      <td>0</td>\n",
       "    </tr>\n",
       "    <tr>\n",
       "      <th>9868</th>\n",
       "      <td>9869</td>\n",
       "      <td>15587640</td>\n",
       "      <td>Rowntree</td>\n",
       "      <td>718</td>\n",
       "      <td>France</td>\n",
       "      <td>Female</td>\n",
       "      <td>43</td>\n",
       "      <td>0.0</td>\n",
       "      <td>93143.39</td>\n",
       "      <td>1</td>\n",
       "      <td>1</td>\n",
       "      <td>0</td>\n",
       "      <td>167554.86</td>\n",
       "      <td>0</td>\n",
       "    </tr>\n",
       "    <tr>\n",
       "      <th>9919</th>\n",
       "      <td>9920</td>\n",
       "      <td>15798084</td>\n",
       "      <td>Murray</td>\n",
       "      <td>688</td>\n",
       "      <td>France</td>\n",
       "      <td>Male</td>\n",
       "      <td>26</td>\n",
       "      <td>0.0</td>\n",
       "      <td>0.00</td>\n",
       "      <td>2</td>\n",
       "      <td>1</td>\n",
       "      <td>0</td>\n",
       "      <td>105784.85</td>\n",
       "      <td>0</td>\n",
       "    </tr>\n",
       "  </tbody>\n",
       "</table>\n",
       "<p>382 rows × 14 columns</p>\n",
       "</div>"
      ],
      "text/plain": [
       "      RowNumber  CustomerId   Surname  CreditScore Geography  Gender  Age  \\\n",
       "29           30    15656300  Lucciano          411    France    Male   29   \n",
       "35           36    15794171  Lombardo          475    France  Female   45   \n",
       "57           58    15647091  Endrizzi          725   Germany    Male   19   \n",
       "72           73    15812518   Palermo          657     Spain  Female   37   \n",
       "127         128    15782688    Piccio          625   Germany    Male   56   \n",
       "...         ...         ...       ...          ...       ...     ...  ...   \n",
       "9793       9794    15772363    Hilton          772   Germany  Female   42   \n",
       "9799       9800    15722731     Manna          653    France    Male   46   \n",
       "9843       9844    15778304       Fan          646   Germany    Male   24   \n",
       "9868       9869    15587640  Rowntree          718    France  Female   43   \n",
       "9919       9920    15798084    Murray          688    France    Male   26   \n",
       "\n",
       "      Tenure    Balance  NumOfProducts  HasCrCard  IsActiveMember  \\\n",
       "29       0.0   59697.17              2          1               1   \n",
       "35       0.0  134264.04              1          1               0   \n",
       "57       0.0   75888.20              1          0               0   \n",
       "72       0.0  163607.18              1          0               1   \n",
       "127      0.0  148507.24              1          1               0   \n",
       "...      ...        ...            ...        ...             ...   \n",
       "9793     0.0  101979.16              1          1               0   \n",
       "9799     0.0  119556.10              1          1               0   \n",
       "9843     0.0   92398.08              1          1               1   \n",
       "9868     0.0   93143.39              1          1               0   \n",
       "9919     0.0       0.00              2          1               0   \n",
       "\n",
       "      EstimatedSalary  Exited  \n",
       "29           53483.21       0  \n",
       "35           27822.99       1  \n",
       "57           45613.75       0  \n",
       "72           44203.55       0  \n",
       "127          46824.08       1  \n",
       "...               ...     ...  \n",
       "9793         90928.48       0  \n",
       "9799         78250.13       1  \n",
       "9843         18897.29       0  \n",
       "9868        167554.86       0  \n",
       "9919        105784.85       0  \n",
       "\n",
       "[382 rows x 14 columns]"
      ]
     },
     "execution_count": 6,
     "metadata": {},
     "output_type": "execute_result"
    }
   ],
   "source": [
    "data[data['Tenure'] == 0]"
   ]
  },
  {
   "cell_type": "markdown",
   "metadata": {},
   "source": [
    "Гипотеза оказалась неверной. Значит, нельзя точно предположить, что является причиной появления пропусков. Удалим строки с пропущенными значениями в этом столбце. "
   ]
  },
  {
   "cell_type": "code",
   "execution_count": 7,
   "metadata": {},
   "outputs": [
    {
     "name": "stdout",
     "output_type": "stream",
     "text": [
      "<class 'pandas.core.frame.DataFrame'>\n",
      "Int64Index: 9091 entries, 0 to 9998\n",
      "Data columns (total 14 columns):\n",
      " #   Column           Non-Null Count  Dtype  \n",
      "---  ------           --------------  -----  \n",
      " 0   RowNumber        9091 non-null   int64  \n",
      " 1   CustomerId       9091 non-null   int64  \n",
      " 2   Surname          9091 non-null   object \n",
      " 3   CreditScore      9091 non-null   int64  \n",
      " 4   Geography        9091 non-null   object \n",
      " 5   Gender           9091 non-null   object \n",
      " 6   Age              9091 non-null   int64  \n",
      " 7   Tenure           9091 non-null   float64\n",
      " 8   Balance          9091 non-null   float64\n",
      " 9   NumOfProducts    9091 non-null   int64  \n",
      " 10  HasCrCard        9091 non-null   int64  \n",
      " 11  IsActiveMember   9091 non-null   int64  \n",
      " 12  EstimatedSalary  9091 non-null   float64\n",
      " 13  Exited           9091 non-null   int64  \n",
      "dtypes: float64(3), int64(8), object(3)\n",
      "memory usage: 1.0+ MB\n"
     ]
    }
   ],
   "source": [
    "data = data[data['Tenure'].notna()]\n",
    "data.info()"
   ]
  },
  {
   "cell_type": "markdown",
   "metadata": {},
   "source": [
    "Проверим данные на наличие в них дубликатов."
   ]
  },
  {
   "cell_type": "code",
   "execution_count": 8,
   "metadata": {
    "scrolled": false
   },
   "outputs": [
    {
     "data": {
      "text/plain": [
       "0"
      ]
     },
     "execution_count": 8,
     "metadata": {},
     "output_type": "execute_result"
    }
   ],
   "source": [
    "data.duplicated().sum()"
   ]
  },
  {
   "cell_type": "markdown",
   "metadata": {},
   "source": [
    "Явных дубликатов в данных нет, отлично. \n",
    "\n",
    "Перейдём к следущему этапу исследования данных и построим гистограммы для количественных переменных - столбцов `CreditScore`, `Age`, `Tenure`, `Balance`, `NumOfProducts`, `EstimatedSalary`."
   ]
  },
  {
   "cell_type": "code",
   "execution_count": 9,
   "metadata": {},
   "outputs": [
    {
     "name": "stderr",
     "output_type": "stream",
     "text": [
      "/var/folders/xx/jwnnpwhn1flc8_y4wkgtzts80000gn/T/ipykernel_20352/3777518842.py:3: UserWarning: To output multiple subplots, the figure containing the passed axes is being cleared.\n",
      "  data.hist(['CreditScore', 'Age', 'Tenure', 'Balance', 'NumOfProducts', 'EstimatedSalary'], ax=ax);\n"
     ]
    },
    {
     "data": {
      "image/png": "[encoded data removed]",
      "text/plain": [
       "<Figure size 1500x1000 with 6 Axes>"
      ]
     },
     "metadata": {},
     "output_type": "display_data"
    }
   ],
   "source": [
    "fig = plt.figure(figsize = (15,10))\n",
    "ax = fig.gca()\n",
    "data.hist(['CreditScore', 'Age', 'Tenure', 'Balance', 'NumOfProducts', 'EstimatedSalary'], ax=ax);"
   ]
  },
  {
   "cell_type": "markdown",
   "metadata": {},
   "source": [
    "Данные выглядят реалистично. \n",
    "\n",
    "По гистограмме столбца `Tenure` можно заметить, что у банка большего всего клиентов, пользующимися его услугами на протяжении 9-10 лет. \n",
    "\n",
    "У всех клиентов достаточно высокий `CreditScore`, значения столбца распределены нормально. \n",
    "\n",
    "По столбцу `Age` можно заметить, что большинство клиентов банка - люди возрастом от 30 до 40 лет. Но есть клиентв любых возрастов. \n",
    "\n",
    "Большинство клиентов пользуются 1-2 продуктами банка, а максимум продуктов, который можно иметь - 4. Это заметно по столбцу `NumOfProducts`."
   ]
  },
  {
   "cell_type": "markdown",
   "metadata": {},
   "source": [
    "Рассмотрим категориальные признаки - `Gender`, `HasCrCard`, `IsActiveMember`, `Exited` и `Geography`."
   ]
  },
  {
   "cell_type": "code",
   "execution_count": 10,
   "metadata": {},
   "outputs": [
    {
     "name": "stdout",
     "output_type": "stream",
     "text": [
      "Gender: ['Female' 'Male']\n",
      "HasCrCard: [1 0]\n",
      "IsActiveMember: [1 0]\n",
      "Exited: [1 0]\n",
      "Geography: ['France' 'Spain' 'Germany']\n"
     ]
    }
   ],
   "source": [
    "print('Gender:', data['Gender'].unique())\n",
    "print('HasCrCard:', data['HasCrCard'].unique())\n",
    "print('IsActiveMember:', data['IsActiveMember'].unique())\n",
    "print('Exited:', data['Exited'].unique())\n",
    "print('Geography:', data['Geography'].unique())"
   ]
  },
  {
   "cell_type": "markdown",
   "metadata": {},
   "source": [
    "Аномалий не обнаружено, идём дальше. Теперь нарисуем круговые диаграмы для некоторых категориальных признаков."
   ]
  },
  {
   "cell_type": "code",
   "execution_count": 11,
   "metadata": {},
   "outputs": [
    {
     "data": {
      "image/png": "[encoded data removed]",
      "text/plain": [
       "<Figure size 600x600 with 1 Axes>"
      ]
     },
     "metadata": {},
     "output_type": "display_data"
    }
   ],
   "source": [
    "data['Exited'].value_counts().plot.pie(figsize=(6, 6), \n",
    "                                       labels=[\"Остались с банком\", \"Ушли от банка\"], \n",
    "                                       colors = sns.color_palette('pastel')[0:2], \n",
    "                                       autopct='%1.1f%%');"
   ]
  },
  {
   "cell_type": "markdown",
   "metadata": {},
   "source": [
    "Почти четверть клиентов отказалась от услуг банка. "
   ]
  },
  {
   "cell_type": "code",
   "execution_count": 12,
   "metadata": {},
   "outputs": [
    {
     "data": {
      "image/png": "[encoded data removed]",
      "text/plain": [
       "<Figure size 600x600 with 1 Axes>"
      ]
     },
     "metadata": {},
     "output_type": "display_data"
    }
   ],
   "source": [
    "data['Geography'].value_counts().plot.pie(figsize=(6, 6),\n",
    "                                       colors = sns.color_palette('pastel')[7:10], \n",
    "                                       autopct='%1.1f%%');"
   ]
  },
  {
   "cell_type": "markdown",
   "metadata": {},
   "source": [
    "Клиентов из Германии - 50% от общего числа. Оставшаяся половина разделена поровну между клиентами из Германии и Испании. "
   ]
  },
  {
   "cell_type": "code",
   "execution_count": 13,
   "metadata": {},
   "outputs": [
    {
     "data": {
      "image/png": "[encoded data removed]",
      "text/plain": [
       "<Figure size 1000x600 with 1 Axes>"
      ]
     },
     "metadata": {},
     "output_type": "display_data"
    }
   ],
   "source": [
    "data.pivot_table(values='Exited', \n",
    "                 index='Geography', \n",
    "                 aggfunc='mean').plot(kind='bar', \n",
    "                                     figsize=(10,6), \n",
    "                                     grid=True);"
   ]
  },
  {
   "cell_type": "markdown",
   "metadata": {},
   "source": [
    "Во Франции и Испании клиенты уход от банка с одинаковой частотой - примерно 17% уходят. А вот в Германии статистика в два раза выше - треть клиентов отказалась от услуг банка. "
   ]
  },
  {
   "cell_type": "code",
   "execution_count": 14,
   "metadata": {},
   "outputs": [
    {
     "data": {
      "image/png": "[encoded data removed]",
      "text/plain": [
       "<Figure size 1000x600 with 1 Axes>"
      ]
     },
     "metadata": {},
     "output_type": "display_data"
    }
   ],
   "source": [
    "data.pivot_table(columns='Gender', \n",
    "                 index='Geography', \n",
    "                 values='Exited', \n",
    "                 aggfunc='mean').plot(kind='bar', \n",
    "                                      figsize=(10,6), \n",
    "                                      grid=True);"
   ]
  },
  {
   "cell_type": "markdown",
   "metadata": {},
   "source": [
    "В каждой стране женщины значительно чаще уходят от банка, чем мужчины. "
   ]
  },
  {
   "cell_type": "markdown",
   "metadata": {},
   "source": [
    "Добавим в таблицу столбец `AgeGroup`, в который поместим округленное значение возраста. "
   ]
  },
  {
   "cell_type": "code",
   "execution_count": 15,
   "metadata": {},
   "outputs": [
    {
     "data": {
      "text/html": [
       "<div>\n",
       "<style scoped>\n",
       "    .dataframe tbody tr th:only-of-type {\n",
       "        vertical-align: middle;\n",
       "    }\n",
       "\n",
       "    .dataframe tbody tr th {\n",
       "        vertical-align: top;\n",
       "    }\n",
       "\n",
       "    .dataframe thead th {\n",
       "        text-align: right;\n",
       "    }\n",
       "</style>\n",
       "<table border=\"1\" class=\"dataframe\">\n",
       "  <thead>\n",
       "    <tr style=\"text-align: right;\">\n",
       "      <th></th>\n",
       "      <th>RowNumber</th>\n",
       "      <th>CustomerId</th>\n",
       "      <th>Surname</th>\n",
       "      <th>CreditScore</th>\n",
       "      <th>Geography</th>\n",
       "      <th>Gender</th>\n",
       "      <th>Age</th>\n",
       "      <th>Tenure</th>\n",
       "      <th>Balance</th>\n",
       "      <th>NumOfProducts</th>\n",
       "      <th>HasCrCard</th>\n",
       "      <th>IsActiveMember</th>\n",
       "      <th>EstimatedSalary</th>\n",
       "      <th>Exited</th>\n",
       "      <th>AgeGroup</th>\n",
       "    </tr>\n",
       "  </thead>\n",
       "  <tbody>\n",
       "    <tr>\n",
       "      <th>0</th>\n",
       "      <td>1</td>\n",
       "      <td>15634602</td>\n",
       "      <td>Hargrave</td>\n",
       "      <td>619</td>\n",
       "      <td>France</td>\n",
       "      <td>Female</td>\n",
       "      <td>42</td>\n",
       "      <td>2.0</td>\n",
       "      <td>0.00</td>\n",
       "      <td>1</td>\n",
       "      <td>1</td>\n",
       "      <td>1</td>\n",
       "      <td>101348.88</td>\n",
       "      <td>1</td>\n",
       "      <td>40</td>\n",
       "    </tr>\n",
       "    <tr>\n",
       "      <th>1</th>\n",
       "      <td>2</td>\n",
       "      <td>15647311</td>\n",
       "      <td>Hill</td>\n",
       "      <td>608</td>\n",
       "      <td>Spain</td>\n",
       "      <td>Female</td>\n",
       "      <td>41</td>\n",
       "      <td>1.0</td>\n",
       "      <td>83807.86</td>\n",
       "      <td>1</td>\n",
       "      <td>0</td>\n",
       "      <td>1</td>\n",
       "      <td>112542.58</td>\n",
       "      <td>0</td>\n",
       "      <td>40</td>\n",
       "    </tr>\n",
       "    <tr>\n",
       "      <th>2</th>\n",
       "      <td>3</td>\n",
       "      <td>15619304</td>\n",
       "      <td>Onio</td>\n",
       "      <td>502</td>\n",
       "      <td>France</td>\n",
       "      <td>Female</td>\n",
       "      <td>42</td>\n",
       "      <td>8.0</td>\n",
       "      <td>159660.80</td>\n",
       "      <td>3</td>\n",
       "      <td>1</td>\n",
       "      <td>0</td>\n",
       "      <td>113931.57</td>\n",
       "      <td>1</td>\n",
       "      <td>40</td>\n",
       "    </tr>\n",
       "    <tr>\n",
       "      <th>3</th>\n",
       "      <td>4</td>\n",
       "      <td>15701354</td>\n",
       "      <td>Boni</td>\n",
       "      <td>699</td>\n",
       "      <td>France</td>\n",
       "      <td>Female</td>\n",
       "      <td>39</td>\n",
       "      <td>1.0</td>\n",
       "      <td>0.00</td>\n",
       "      <td>2</td>\n",
       "      <td>0</td>\n",
       "      <td>0</td>\n",
       "      <td>93826.63</td>\n",
       "      <td>0</td>\n",
       "      <td>40</td>\n",
       "    </tr>\n",
       "    <tr>\n",
       "      <th>4</th>\n",
       "      <td>5</td>\n",
       "      <td>15737888</td>\n",
       "      <td>Mitchell</td>\n",
       "      <td>850</td>\n",
       "      <td>Spain</td>\n",
       "      <td>Female</td>\n",
       "      <td>43</td>\n",
       "      <td>2.0</td>\n",
       "      <td>125510.82</td>\n",
       "      <td>1</td>\n",
       "      <td>1</td>\n",
       "      <td>1</td>\n",
       "      <td>79084.10</td>\n",
       "      <td>0</td>\n",
       "      <td>40</td>\n",
       "    </tr>\n",
       "    <tr>\n",
       "      <th>...</th>\n",
       "      <td>...</td>\n",
       "      <td>...</td>\n",
       "      <td>...</td>\n",
       "      <td>...</td>\n",
       "      <td>...</td>\n",
       "      <td>...</td>\n",
       "      <td>...</td>\n",
       "      <td>...</td>\n",
       "      <td>...</td>\n",
       "      <td>...</td>\n",
       "      <td>...</td>\n",
       "      <td>...</td>\n",
       "      <td>...</td>\n",
       "      <td>...</td>\n",
       "      <td>...</td>\n",
       "    </tr>\n",
       "    <tr>\n",
       "      <th>9994</th>\n",
       "      <td>9995</td>\n",
       "      <td>15719294</td>\n",
       "      <td>Wood</td>\n",
       "      <td>800</td>\n",
       "      <td>France</td>\n",
       "      <td>Female</td>\n",
       "      <td>29</td>\n",
       "      <td>2.0</td>\n",
       "      <td>0.00</td>\n",
       "      <td>2</td>\n",
       "      <td>0</td>\n",
       "      <td>0</td>\n",
       "      <td>167773.55</td>\n",
       "      <td>0</td>\n",
       "      <td>30</td>\n",
       "    </tr>\n",
       "    <tr>\n",
       "      <th>9995</th>\n",
       "      <td>9996</td>\n",
       "      <td>15606229</td>\n",
       "      <td>Obijiaku</td>\n",
       "      <td>771</td>\n",
       "      <td>France</td>\n",
       "      <td>Male</td>\n",
       "      <td>39</td>\n",
       "      <td>5.0</td>\n",
       "      <td>0.00</td>\n",
       "      <td>2</td>\n",
       "      <td>1</td>\n",
       "      <td>0</td>\n",
       "      <td>96270.64</td>\n",
       "      <td>0</td>\n",
       "      <td>40</td>\n",
       "    </tr>\n",
       "    <tr>\n",
       "      <th>9996</th>\n",
       "      <td>9997</td>\n",
       "      <td>15569892</td>\n",
       "      <td>Johnstone</td>\n",
       "      <td>516</td>\n",
       "      <td>France</td>\n",
       "      <td>Male</td>\n",
       "      <td>35</td>\n",
       "      <td>10.0</td>\n",
       "      <td>57369.61</td>\n",
       "      <td>1</td>\n",
       "      <td>1</td>\n",
       "      <td>1</td>\n",
       "      <td>101699.77</td>\n",
       "      <td>0</td>\n",
       "      <td>40</td>\n",
       "    </tr>\n",
       "    <tr>\n",
       "      <th>9997</th>\n",
       "      <td>9998</td>\n",
       "      <td>15584532</td>\n",
       "      <td>Liu</td>\n",
       "      <td>709</td>\n",
       "      <td>France</td>\n",
       "      <td>Female</td>\n",
       "      <td>36</td>\n",
       "      <td>7.0</td>\n",
       "      <td>0.00</td>\n",
       "      <td>1</td>\n",
       "      <td>0</td>\n",
       "      <td>1</td>\n",
       "      <td>42085.58</td>\n",
       "      <td>1</td>\n",
       "      <td>40</td>\n",
       "    </tr>\n",
       "    <tr>\n",
       "      <th>9998</th>\n",
       "      <td>9999</td>\n",
       "      <td>15682355</td>\n",
       "      <td>Sabbatini</td>\n",
       "      <td>772</td>\n",
       "      <td>Germany</td>\n",
       "      <td>Male</td>\n",
       "      <td>42</td>\n",
       "      <td>3.0</td>\n",
       "      <td>75075.31</td>\n",
       "      <td>2</td>\n",
       "      <td>1</td>\n",
       "      <td>0</td>\n",
       "      <td>92888.52</td>\n",
       "      <td>1</td>\n",
       "      <td>40</td>\n",
       "    </tr>\n",
       "  </tbody>\n",
       "</table>\n",
       "<p>9091 rows × 15 columns</p>\n",
       "</div>"
      ],
      "text/plain": [
       "      RowNumber  CustomerId    Surname  CreditScore Geography  Gender  Age  \\\n",
       "0             1    15634602   Hargrave          619    France  Female   42   \n",
       "1             2    15647311       Hill          608     Spain  Female   41   \n",
       "2             3    15619304       Onio          502    France  Female   42   \n",
       "3             4    15701354       Boni          699    France  Female   39   \n",
       "4             5    15737888   Mitchell          850     Spain  Female   43   \n",
       "...         ...         ...        ...          ...       ...     ...  ...   \n",
       "9994       9995    15719294       Wood          800    France  Female   29   \n",
       "9995       9996    15606229   Obijiaku          771    France    Male   39   \n",
       "9996       9997    15569892  Johnstone          516    France    Male   35   \n",
       "9997       9998    15584532        Liu          709    France  Female   36   \n",
       "9998       9999    15682355  Sabbatini          772   Germany    Male   42   \n",
       "\n",
       "      Tenure    Balance  NumOfProducts  HasCrCard  IsActiveMember  \\\n",
       "0        2.0       0.00              1          1               1   \n",
       "1        1.0   83807.86              1          0               1   \n",
       "2        8.0  159660.80              3          1               0   \n",
       "3        1.0       0.00              2          0               0   \n",
       "4        2.0  125510.82              1          1               1   \n",
       "...      ...        ...            ...        ...             ...   \n",
       "9994     2.0       0.00              2          0               0   \n",
       "9995     5.0       0.00              2          1               0   \n",
       "9996    10.0   57369.61              1          1               1   \n",
       "9997     7.0       0.00              1          0               1   \n",
       "9998     3.0   75075.31              2          1               0   \n",
       "\n",
       "      EstimatedSalary  Exited  AgeGroup  \n",
       "0           101348.88       1        40  \n",
       "1           112542.58       0        40  \n",
       "2           113931.57       1        40  \n",
       "3            93826.63       0        40  \n",
       "4            79084.10       0        40  \n",
       "...               ...     ...       ...  \n",
       "9994        167773.55       0        30  \n",
       "9995         96270.64       0        40  \n",
       "9996        101699.77       0        40  \n",
       "9997         42085.58       1        40  \n",
       "9998         92888.52       1        40  \n",
       "\n",
       "[9091 rows x 15 columns]"
      ]
     },
     "execution_count": 15,
     "metadata": {},
     "output_type": "execute_result"
    }
   ],
   "source": [
    "data['AgeGroup'] = (data['Age'] / 10).round().astype(int) * 10\n",
    "data"
   ]
  },
  {
   "cell_type": "code",
   "execution_count": 16,
   "metadata": {},
   "outputs": [
    {
     "data": {
      "image/png": "[encoded data removed]",
      "text/plain": [
       "<Figure size 1600x800 with 1 Axes>"
      ]
     },
     "metadata": {},
     "output_type": "display_data"
    }
   ],
   "source": [
    "data.pivot_table(values='Exited', \n",
    "                 index='AgeGroup', \n",
    "                 columns='Geography', \n",
    "                 aggfunc='mean').plot(kind='bar', \n",
    "                                      figsize=(16,8), \n",
    "                                      grid=True);"
   ]
  },
  {
   "cell_type": "markdown",
   "metadata": {},
   "source": [
    "В возрастной группе \"20\" клиентов из Испании почти столько же, сколько из Германии. В остальных категориях клиентов из Германии значительно боольше, чем из других двух стран. В возрастной группе \"80\" есть только клиенты из Франции. "
   ]
  },
  {
   "cell_type": "markdown",
   "metadata": {},
   "source": [
    "## Исследование задачи\n",
    "<a id='step2'></a>\n",
    "[Вернуться к навигации](#nav)"
   ]
  },
  {
   "cell_type": "markdown",
   "metadata": {},
   "source": [
    "Уберём лишние признаки - `Surname`, `CustomerId`, `AgeGroup` и `RowNumber`."
   ]
  },
  {
   "cell_type": "code",
   "execution_count": 17,
   "metadata": {},
   "outputs": [
    {
     "data": {
      "text/html": [
       "<div>\n",
       "<style scoped>\n",
       "    .dataframe tbody tr th:only-of-type {\n",
       "        vertical-align: middle;\n",
       "    }\n",
       "\n",
       "    .dataframe tbody tr th {\n",
       "        vertical-align: top;\n",
       "    }\n",
       "\n",
       "    .dataframe thead th {\n",
       "        text-align: right;\n",
       "    }\n",
       "</style>\n",
       "<table border=\"1\" class=\"dataframe\">\n",
       "  <thead>\n",
       "    <tr style=\"text-align: right;\">\n",
       "      <th></th>\n",
       "      <th>CreditScore</th>\n",
       "      <th>Geography</th>\n",
       "      <th>Gender</th>\n",
       "      <th>Age</th>\n",
       "      <th>Tenure</th>\n",
       "      <th>Balance</th>\n",
       "      <th>NumOfProducts</th>\n",
       "      <th>HasCrCard</th>\n",
       "      <th>IsActiveMember</th>\n",
       "      <th>EstimatedSalary</th>\n",
       "      <th>Exited</th>\n",
       "    </tr>\n",
       "  </thead>\n",
       "  <tbody>\n",
       "    <tr>\n",
       "      <th>0</th>\n",
       "      <td>619</td>\n",
       "      <td>France</td>\n",
       "      <td>Female</td>\n",
       "      <td>42</td>\n",
       "      <td>2.0</td>\n",
       "      <td>0.00</td>\n",
       "      <td>1</td>\n",
       "      <td>1</td>\n",
       "      <td>1</td>\n",
       "      <td>101348.88</td>\n",
       "      <td>1</td>\n",
       "    </tr>\n",
       "    <tr>\n",
       "      <th>1</th>\n",
       "      <td>608</td>\n",
       "      <td>Spain</td>\n",
       "      <td>Female</td>\n",
       "      <td>41</td>\n",
       "      <td>1.0</td>\n",
       "      <td>83807.86</td>\n",
       "      <td>1</td>\n",
       "      <td>0</td>\n",
       "      <td>1</td>\n",
       "      <td>112542.58</td>\n",
       "      <td>0</td>\n",
       "    </tr>\n",
       "    <tr>\n",
       "      <th>2</th>\n",
       "      <td>502</td>\n",
       "      <td>France</td>\n",
       "      <td>Female</td>\n",
       "      <td>42</td>\n",
       "      <td>8.0</td>\n",
       "      <td>159660.80</td>\n",
       "      <td>3</td>\n",
       "      <td>1</td>\n",
       "      <td>0</td>\n",
       "      <td>113931.57</td>\n",
       "      <td>1</td>\n",
       "    </tr>\n",
       "    <tr>\n",
       "      <th>3</th>\n",
       "      <td>699</td>\n",
       "      <td>France</td>\n",
       "      <td>Female</td>\n",
       "      <td>39</td>\n",
       "      <td>1.0</td>\n",
       "      <td>0.00</td>\n",
       "      <td>2</td>\n",
       "      <td>0</td>\n",
       "      <td>0</td>\n",
       "      <td>93826.63</td>\n",
       "      <td>0</td>\n",
       "    </tr>\n",
       "    <tr>\n",
       "      <th>4</th>\n",
       "      <td>850</td>\n",
       "      <td>Spain</td>\n",
       "      <td>Female</td>\n",
       "      <td>43</td>\n",
       "      <td>2.0</td>\n",
       "      <td>125510.82</td>\n",
       "      <td>1</td>\n",
       "      <td>1</td>\n",
       "      <td>1</td>\n",
       "      <td>79084.10</td>\n",
       "      <td>0</td>\n",
       "    </tr>\n",
       "  </tbody>\n",
       "</table>\n",
       "</div>"
      ],
      "text/plain": [
       "   CreditScore Geography  Gender  Age  Tenure    Balance  NumOfProducts  \\\n",
       "0          619    France  Female   42     2.0       0.00              1   \n",
       "1          608     Spain  Female   41     1.0   83807.86              1   \n",
       "2          502    France  Female   42     8.0  159660.80              3   \n",
       "3          699    France  Female   39     1.0       0.00              2   \n",
       "4          850     Spain  Female   43     2.0  125510.82              1   \n",
       "\n",
       "   HasCrCard  IsActiveMember  EstimatedSalary  Exited  \n",
       "0          1               1        101348.88       1  \n",
       "1          0               1        112542.58       0  \n",
       "2          1               0        113931.57       1  \n",
       "3          0               0         93826.63       0  \n",
       "4          1               1         79084.10       0  "
      ]
     },
     "execution_count": 17,
     "metadata": {},
     "output_type": "execute_result"
    }
   ],
   "source": [
    "data = data.drop(['Surname', 'CustomerId', 'RowNumber', 'AgeGroup'], axis=1)\n",
    "data.head()"
   ]
  },
  {
   "cell_type": "markdown",
   "metadata": {},
   "source": [
    "Займёмся подготовкой признаков. "
   ]
  },
  {
   "cell_type": "markdown",
   "metadata": {},
   "source": [
    "Извлечём признаки для обучения в `features`, а целевой признак `Exited` сохраним в переменную `target`.\n",
    "Выделим 20% данных для валидационной выборки, 20% для тестовой, остальные — для обучающей."
   ]
  },
  {
   "cell_type": "code",
   "execution_count": 18,
   "metadata": {},
   "outputs": [],
   "source": [
    "features = data.drop('Exited', axis=1)\n",
    "target = data['Exited']\n",
    "\n",
    "features_train_valid, features_test, target_train_valid, target_test = train_test_split(\n",
    "    features, target, test_size=.2, random_state=12345)\n",
    "\n",
    "features_train, features_valid, target_train, target_valid = train_test_split(\n",
    "    features_train_valid, target_train_valid, test_size=.25, random_state=12345)"
   ]
  },
  {
   "cell_type": "markdown",
   "metadata": {},
   "source": [
    "Преобразуем категориальные признаки в численные с помощью прямого кодирования One-Hot Encoding. Чтобы избежать дамми-ловушки, при вызове функции `pd.get_dummies()` укажем параметр `drop_first=True`."
   ]
  },
  {
   "cell_type": "code",
   "execution_count": 19,
   "metadata": {},
   "outputs": [],
   "source": [
    "categorical_cols = ['Geography', 'Gender', 'NumOfProducts', 'HasCrCard', 'IsActiveMember']\n",
    "\n",
    "features_train = pd.get_dummies(features_train, columns=categorical_cols, drop_first=True)\n",
    "features_valid = pd.get_dummies(features_valid, columns=categorical_cols, drop_first=True)\n",
    "features_test = pd.get_dummies(features_test, columns=categorical_cols, drop_first=True)"
   ]
  },
  {
   "cell_type": "code",
   "execution_count": 20,
   "metadata": {},
   "outputs": [
    {
     "data": {
      "text/plain": [
       "(5454, 13)"
      ]
     },
     "execution_count": 20,
     "metadata": {},
     "output_type": "execute_result"
    }
   ],
   "source": [
    "features_train.shape"
   ]
  },
  {
   "cell_type": "code",
   "execution_count": 21,
   "metadata": {},
   "outputs": [
    {
     "data": {
      "text/plain": [
       "(1818, 13)"
      ]
     },
     "execution_count": 21,
     "metadata": {},
     "output_type": "execute_result"
    }
   ],
   "source": [
    "features_valid.shape"
   ]
  },
  {
   "cell_type": "code",
   "execution_count": 22,
   "metadata": {},
   "outputs": [
    {
     "data": {
      "text/plain": [
       "(1819, 13)"
      ]
     },
     "execution_count": 22,
     "metadata": {},
     "output_type": "execute_result"
    }
   ],
   "source": [
    "features_test.shape"
   ]
  },
  {
   "cell_type": "markdown",
   "metadata": {},
   "source": [
    "Разделение отработало, как нужно. 60% - обучающая выборка, 20% - валидационная, 20% - тестовая."
   ]
  },
  {
   "cell_type": "markdown",
   "metadata": {},
   "source": [
    "В данных присутсивуют количественные признаки с разным разбросом значений. Чтобы алгоритм не решил, что признаки с большими значениями и разбросом значений важнее, займёмся масштабированием признаков. Воспользуемся методом стандартизации данных."
   ]
  },
  {
   "cell_type": "code",
   "execution_count": 23,
   "metadata": {},
   "outputs": [],
   "source": [
    "scaler = StandardScaler()\n",
    "numeric = ['CreditScore', 'Age', 'Tenure', 'Balance', 'EstimatedSalary']"
   ]
  },
  {
   "cell_type": "code",
   "execution_count": 24,
   "metadata": {},
   "outputs": [],
   "source": [
    "scaler.fit(features_train[numeric])\n",
    "\n",
    "features_train[numeric] = scaler.transform(features_train[numeric])\n",
    "features_valid[numeric] = scaler.transform(features_valid[numeric])\n",
    "features_test[numeric] = scaler.transform(features_test[numeric])"
   ]
  },
  {
   "cell_type": "markdown",
   "metadata": {},
   "source": [
    "Перейдём к обучению моделей. Сначала рассмотрим DecisionTreeClassifier. "
   ]
  },
  {
   "cell_type": "code",
   "execution_count": 25,
   "metadata": {},
   "outputs": [
    {
     "name": "stdout",
     "output_type": "stream",
     "text": [
      "F1 score на валидационной выборке:  0.47605633802816905\n",
      "\n",
      "CPU times: user 19.6 ms, sys: 1.15 ms, total: 20.7 ms\n",
      "Wall time: 20.2 ms\n"
     ]
    }
   ],
   "source": [
    "%%time\n",
    "\n",
    "model = DecisionTreeClassifier(random_state=12345)\n",
    "model.fit(features_train, target_train)\n",
    "predictions_valid = model.predict(features_valid)\n",
    "\n",
    "print(\"F1 score на валидационной выборке: \", f1_score(target_valid, predictions_valid))\n",
    "print()"
   ]
  },
  {
   "cell_type": "markdown",
   "metadata": {},
   "source": [
    "F1 score на валидационной выборке оказался достаточно низкий - 0.48. Сравним его с F1 score константной модели, которая всегда выдаёт 0 в качестве предсказания.  "
   ]
  },
  {
   "cell_type": "code",
   "execution_count": 26,
   "metadata": {
    "scrolled": true
   },
   "outputs": [
    {
     "name": "stdout",
     "output_type": "stream",
     "text": [
      "F1 score на валидационной выборке:  0.47605633802816905\n"
     ]
    }
   ],
   "source": [
    "target_pred_constant = pd.Series(0, index=target.index)\n",
    "\n",
    "print(\"F1 score на валидационной выборке: \", f1_score(target_valid, predictions_valid))"
   ]
  },
  {
   "cell_type": "markdown",
   "metadata": {},
   "source": [
    "F1 score константной модели оказался равен F1 score модели на валидационной выборке. Значит, наша модель работает также, как константная. Скорее всего, мы столкнулись с дисбалансом классов. Посмотрим на то, как распределены классы в данных:"
   ]
  },
  {
   "cell_type": "code",
   "execution_count": 27,
   "metadata": {},
   "outputs": [
    {
     "name": "stdout",
     "output_type": "stream",
     "text": [
      "0    0.796062\n",
      "1    0.203938\n",
      "Name: Exited, dtype: float64\n"
     ]
    },
    {
     "data": {
      "image/png": "[encoded data removed]",
      "text/plain": [
       "<Figure size 640x480 with 1 Axes>"
      ]
     },
     "metadata": {},
     "output_type": "display_data"
    }
   ],
   "source": [
    "class_frequency = data['Exited'].value_counts(normalize=True)\n",
    "print(class_frequency)\n",
    "\n",
    "class_frequency.plot(kind='bar', grid=True);"
   ]
  },
  {
   "cell_type": "markdown",
   "metadata": {},
   "source": [
    "Отрицательный класс представлен в выборке в 4 раза больше, чем положительный. Соотношение классов далеко от 1:1. Значит, мы наблюдаем дисбаланс классов, что плохо сказывается на обучении модели. "
   ]
  },
  {
   "cell_type": "markdown",
   "metadata": {},
   "source": [
    "## Борьба с дисбалансом\n",
    "<a id='step3'></a>\n",
    "[Вернуться к навигации](#nav)"
   ]
  },
  {
   "cell_type": "markdown",
   "metadata": {},
   "source": [
    "Сначала обучим модель LogisticRegression на выборке с дисбалансом классов и зафиксируем значения F1-метрики на её предсказаниях. "
   ]
  },
  {
   "cell_type": "code",
   "execution_count": 28,
   "metadata": {},
   "outputs": [
    {
     "name": "stdout",
     "output_type": "stream",
     "text": [
      "F1: 0.4411764705882352\n"
     ]
    }
   ],
   "source": [
    "model = LogisticRegression(random_state=12345, solver='liblinear')\n",
    "model.fit(features_train, target_train)\n",
    "predictions_valid = model.predict(features_valid)\n",
    "\n",
    "print('F1:', f1_score(target_valid, predictions_valid))"
   ]
  },
  {
   "cell_type": "markdown",
   "metadata": {},
   "source": [
    "Теперь попробуем учесть дисбаланс классов с помощью параметра `class_weight='balanced'`."
   ]
  },
  {
   "cell_type": "code",
   "execution_count": 29,
   "metadata": {},
   "outputs": [
    {
     "name": "stdout",
     "output_type": "stream",
     "text": [
      "F1: 0.5484536082474227\n"
     ]
    }
   ],
   "source": [
    "model = LogisticRegression(random_state=12345, solver='liblinear', class_weight='balanced')\n",
    "model.fit(features_train, target_train)\n",
    "predictions_valid = model.predict(features_valid)\n",
    "\n",
    "print('F1:', f1_score(target_valid, predictions_valid))"
   ]
  },
  {
   "cell_type": "markdown",
   "metadata": {},
   "source": [
    "Уже лучше. Теперь, чтобы избавиться от дисбаланса классов, воспользуемся техникой увеличения выборки - Upsampling. Напишем функцию `upsample`, которая будем увеличивать положительный класс в предложенное количество раз. "
   ]
  },
  {
   "cell_type": "code",
   "execution_count": 30,
   "metadata": {},
   "outputs": [],
   "source": [
    "def upsample(features, target, repeat):\n",
    "    features_zeros = features[target == 0]\n",
    "    features_ones = features[target == 1]\n",
    "    target_zeros = target[target == 0]\n",
    "    target_ones = target[target == 1]\n",
    "    \n",
    "    features_upsampled = pd.concat([features_zeros] + [features_ones] * repeat)\n",
    "    target_upsampled = pd.concat([target_zeros] + [target_ones] * repeat)\n",
    "    \n",
    "    features_upsampled, target_upsampled = shuffle(\n",
    "        features_upsampled, target_upsampled, random_state=12345)\n",
    "    \n",
    "    return features_upsampled, target_upsampled"
   ]
  },
  {
   "cell_type": "markdown",
   "metadata": {},
   "source": [
    "Применим фукнцию `upsample` для тренировочной выборки. Увеличим количество объектов положительного класса в 4 раза, чтобы сбалансировать выборку. "
   ]
  },
  {
   "cell_type": "code",
   "execution_count": 31,
   "metadata": {},
   "outputs": [],
   "source": [
    "features_train_upsampled, target_train_upsampled = upsample(features_train, target_train, 4)"
   ]
  },
  {
   "cell_type": "markdown",
   "metadata": {},
   "source": [
    "Теперь обучим модель Логистической Регрессии на сбалансированной тренировочной выборке и зафиксируем её F1-меру на валидационной выборке. "
   ]
  },
  {
   "cell_type": "code",
   "execution_count": 32,
   "metadata": {},
   "outputs": [
    {
     "name": "stdout",
     "output_type": "stream",
     "text": [
      "F1: 0.5423037716615698\n"
     ]
    }
   ],
   "source": [
    "model = LogisticRegression(random_state=12345, solver='liblinear')\n",
    "model.fit(features_train_upsampled, target_train_upsampled)\n",
    "predictions_valid = model.predict(features_valid)\n",
    "\n",
    "print('F1:', f1_score(target_valid, predictions_valid))"
   ]
  },
  {
   "cell_type": "markdown",
   "metadata": {},
   "source": [
    "Теперь посмотрим на метрику `ROC-AUC Score`."
   ]
  },
  {
   "cell_type": "code",
   "execution_count": 33,
   "metadata": {},
   "outputs": [
    {
     "name": "stdout",
     "output_type": "stream",
     "text": [
      "ROC-AUC: 0.8286290626081982\n"
     ]
    }
   ],
   "source": [
    "probabilities_valid = model.predict_proba(features_valid)\n",
    "probabilities_one_valid = probabilities_valid[:, 1]\n",
    "\n",
    "auc_roc = roc_auc_score(target_valid, probabilities_one_valid)\n",
    "print('ROC-AUC:', auc_roc)"
   ]
  },
  {
   "cell_type": "markdown",
   "metadata": {},
   "source": [
    "Сравним ROC-кривую нашей модели с ROC-кривой случайной модели."
   ]
  },
  {
   "cell_type": "code",
   "execution_count": 34,
   "metadata": {
    "scrolled": false
   },
   "outputs": [
    {
     "data": {
      "image/png": "[encoded data removed]",
      "text/plain": [
       "<Figure size 600x600 with 1 Axes>"
      ]
     },
     "metadata": {},
     "output_type": "display_data"
    }
   ],
   "source": [
    "fpr, tpr, thresholds = roc_curve(target_valid, probabilities_one_valid)\n",
    "plt.figure(figsize=(6, 6))\n",
    "\n",
    "# ROC-кривая случайной модели\n",
    "plt.plot([0, 1], [0, 1], linestyle='--')\n",
    "\n",
    "plt.plot(fpr, tpr)\n",
    "plt.xlim([0, 1])\n",
    "plt.ylim([0, 1])\n",
    "plt.xlabel('False Positive Rate')\n",
    "plt.ylabel('True Positive Rate')\n",
    "plt.title('ROC-кривая')\n",
    "plt.show()"
   ]
  },
  {
   "cell_type": "markdown",
   "metadata": {},
   "source": [
    "ROC-кривая нашей модели почти такая же, как ROC-кривая случайной модели. Попробуем увеличить `ROC-AUC Score` и поднять ROC-выше над ROC-кривой случайной модели."
   ]
  },
  {
   "cell_type": "markdown",
   "metadata": {},
   "source": [
    "Перейдём к модели Случайного Леса. Сначала обучим модель на выборке с дисбалансом классов и зафиксируем значения F1-метрики на её предсказаниях."
   ]
  },
  {
   "cell_type": "code",
   "execution_count": 35,
   "metadata": {},
   "outputs": [
    {
     "name": "stdout",
     "output_type": "stream",
     "text": [
      "F1: 0.5492227979274611\n"
     ]
    }
   ],
   "source": [
    "model = RandomForestClassifier(random_state=12345)\n",
    "model.fit(features_train, target_train)\n",
    "predictions_valid = model.predict(features_valid)\n",
    "\n",
    "print('F1:', f1_score(target_valid, predictions_valid))"
   ]
  },
  {
   "cell_type": "markdown",
   "metadata": {},
   "source": [
    "Теперь попробуем учесть дисбаланс классов с помощью параметра `class_weight='balanced'`."
   ]
  },
  {
   "cell_type": "code",
   "execution_count": 36,
   "metadata": {},
   "outputs": [
    {
     "name": "stdout",
     "output_type": "stream",
     "text": [
      "F1: 0.5396825396825398\n"
     ]
    }
   ],
   "source": [
    "model = RandomForestClassifier(random_state=12345, class_weight='balanced')\n",
    "model.fit(features_train, target_train)\n",
    "predictions_valid = model.predict(features_valid)\n",
    "\n",
    "print('F1:', f1_score(target_valid, predictions_valid))"
   ]
  },
  {
   "cell_type": "markdown",
   "metadata": {},
   "source": [
    "Теперь обучим модель Случайного Леса на сбалансированной тренировочной выборке и зафиксируем её F1-меру на валидационной выборке. "
   ]
  },
  {
   "cell_type": "code",
   "execution_count": 37,
   "metadata": {},
   "outputs": [
    {
     "name": "stdout",
     "output_type": "stream",
     "text": [
      "F1: 0.5880503144654088\n"
     ]
    }
   ],
   "source": [
    "model = RandomForestClassifier(random_state=12345)\n",
    "model.fit(features_train_upsampled, target_train_upsampled)\n",
    "predictions_valid = model.predict(features_valid)\n",
    "\n",
    "print('F1:', f1_score(target_valid, predictions_valid))"
   ]
  },
  {
   "cell_type": "markdown",
   "metadata": {},
   "source": [
    "F1 мера немного увеличилась по сравнению с несбалансированной выборкой. Теперь подберём гиперпараметры."
   ]
  },
  {
   "cell_type": "markdown",
   "metadata": {},
   "source": [
    "Переберём разные значения параметра максимальной глубины `max_depth` от 1 до 50 и `n_estimators` от 1 до 100, сравним метрики `f1_score` для каждого из них и найдём модель с самым высоким её значением."
   ]
  },
  {
   "cell_type": "code",
   "execution_count": 38,
   "metadata": {},
   "outputs": [
    {
     "name": "stdout",
     "output_type": "stream",
     "text": [
      "\n",
      "Validation F1: 0.6092089728453365\n",
      "Best depth: 10\n",
      "Best number of estimators: 50\n",
      "\n",
      "CPU times: user 42.5 s, sys: 192 ms, total: 42.7 s\n",
      "Wall time: 42.7 s\n"
     ]
    }
   ],
   "source": [
    "%%time\n",
    "\n",
    "best_f1_valid = 0\n",
    "best_depth = 0\n",
    "best_n_est = 0\n",
    "\n",
    "for depth in range(1, 11):\n",
    "    for n_est in range(1, 51):\n",
    "        model = DecisionTreeClassifier(n_estimators=n_est, max_depth=depth, random_state=12345)\n",
    "        model.fit(features_train_upsampled, target_train_upsampled)\n",
    "\n",
    "        predictions_valid = model.predict(features_valid)\n",
    "        f1_valid = f1_score(target_valid, predictions_valid)\n",
    "\n",
    "        if f1_valid > best_f1_valid:\n",
    "            best_f1_valid = f1_valid\n",
    "            best_n_est = n_est\n",
    "            best_depth = depth\n",
    "\n",
    "print()\n",
    "print('Validation F1:', best_f1_valid)\n",
    "print('Best depth:', best_depth)\n",
    "print('Best number of estimators:', best_n_est)\n",
    "print()"
   ]
  },
  {
   "cell_type": "markdown",
   "metadata": {},
   "source": [
    "Теперь возьмём лучшие результаты `n_estimators=36` и `max_depth=11` из исследования выше, обучим модель с таким набором гиперпараметров и посмотрим на её F1-меру."
   ]
  },
  {
   "cell_type": "code",
   "execution_count": 41,
   "metadata": {},
   "outputs": [
    {
     "name": "stdout",
     "output_type": "stream",
     "text": [
      "\n",
      "Validation F1: 0.6092089728453365\n",
      "\n",
      "CPU times: user 265 ms, sys: 5.01 ms, total: 270 ms\n",
      "Wall time: 268 ms\n"
     ]
    }
   ],
   "source": [
    "%%time\n",
    "\n",
    "model = RandomForestClassifier(n_estimators=50, max_depth=10, random_state=12345)\n",
    "model.fit(features_train_upsampled, target_train_upsampled)\n",
    "predictions_valid = model.predict(features_valid)\n",
    "\n",
    "f1_valid = f1_score(target_valid, predictions_valid)\n",
    "\n",
    "print()\n",
    "print('Validation F1:', f1_valid)\n",
    "print()"
   ]
  },
  {
   "cell_type": "markdown",
   "metadata": {},
   "source": [
    "Получили достаточо высокие значения метрики F1. Посмотрим на ROC-кривую и `AUC-ROC score` полученной модели. "
   ]
  },
  {
   "cell_type": "code",
   "execution_count": 42,
   "metadata": {},
   "outputs": [
    {
     "name": "stdout",
     "output_type": "stream",
     "text": [
      "AUC-ROC score: 0.8495687124599196\n"
     ]
    },
    {
     "data": {
      "image/png": "[encoded data removed]",
      "text/plain": [
       "<Figure size 600x600 with 1 Axes>"
      ]
     },
     "metadata": {},
     "output_type": "display_data"
    }
   ],
   "source": [
    "probabilities_valid = model.predict_proba(features_valid)\n",
    "probabilities_one_valid = probabilities_valid[:, 1]\n",
    "\n",
    "auc_roc = roc_auc_score(target_valid, probabilities_one_valid)\n",
    "print('AUC-ROC score:', auc_roc)\n",
    "\n",
    "fpr, tpr, thresholds = roc_curve(target_valid, probabilities_one_valid)\n",
    "plt.figure(figsize=(6, 6))\n",
    "\n",
    "# ROC-кривая случайной модели\n",
    "plt.plot([0, 1], [0, 1], linestyle='--')\n",
    "\n",
    "plt.plot(fpr, tpr)\n",
    "plt.xlim([0, 1])\n",
    "plt.ylim([0, 1])\n",
    "plt.xlabel('False Positive Rate')\n",
    "plt.ylabel('True Positive Rate')\n",
    "plt.title('ROC-кривая')\n",
    "plt.show()"
   ]
  },
  {
   "cell_type": "markdown",
   "metadata": {},
   "source": [
    "Теперь ROC-кривая стала выше кривой случайной модели и `AUC-ROC score` = 0.85. Можем перейти к проверке качества модели на тестовой выборке. "
   ]
  }
 ],
 "metadata": {
  "ExecuteTimeLog": [
   {
    "duration": 423,
    "start_time": "2022-12-04T16:36:42.708Z"
   },
   {
    "duration": 95,
    "start_time": "2022-12-04T16:36:55.888Z"
   },
   {
    "duration": 18,
    "start_time": "2022-12-04T16:37:05.373Z"
   },
   {
    "duration": 16,
    "start_time": "2022-12-04T16:37:16.192Z"
   },
   {
    "duration": 5,
    "start_time": "2022-12-04T16:46:08.232Z"
   },
   {
    "duration": 42,
    "start_time": "2022-12-04T16:46:14.226Z"
   },
   {
    "duration": 5,
    "start_time": "2022-12-04T16:46:17.139Z"
   },
   {
    "duration": 73,
    "start_time": "2022-12-04T16:46:49.008Z"
   },
   {
    "duration": 359,
    "start_time": "2022-12-04T16:46:56.477Z"
   },
   {
    "duration": 786,
    "start_time": "2022-12-04T16:47:01.285Z"
   },
   {
    "duration": 699,
    "start_time": "2022-12-04T16:47:05.401Z"
   },
   {
    "duration": 160,
    "start_time": "2022-12-04T16:47:16.704Z"
   },
   {
    "duration": 189,
    "start_time": "2022-12-04T16:47:47.027Z"
   },
   {
    "duration": 217,
    "start_time": "2022-12-04T16:48:03.665Z"
   },
   {
    "duration": 5,
    "start_time": "2022-12-04T16:48:48.406Z"
   },
   {
    "duration": 8,
    "start_time": "2022-12-04T16:50:00.147Z"
   },
   {
    "duration": 42,
    "start_time": "2022-12-04T16:50:37.028Z"
   },
   {
    "duration": 13,
    "start_time": "2022-12-04T16:50:47.014Z"
   },
   {
    "duration": 11,
    "start_time": "2022-12-04T16:50:55.667Z"
   },
   {
    "duration": 14,
    "start_time": "2022-12-04T16:50:58.885Z"
   },
   {
    "duration": 7,
    "start_time": "2022-12-04T16:51:43.011Z"
   },
   {
    "duration": 10,
    "start_time": "2022-12-04T16:51:47.871Z"
   },
   {
    "duration": 9,
    "start_time": "2022-12-04T16:51:53.379Z"
   },
   {
    "duration": 20,
    "start_time": "2022-12-04T16:52:05.993Z"
   },
   {
    "duration": 8,
    "start_time": "2022-12-04T16:52:09.844Z"
   },
   {
    "duration": 592,
    "start_time": "2022-12-04T16:52:12.571Z"
   },
   {
    "duration": 15,
    "start_time": "2022-12-04T16:52:24.489Z"
   },
   {
    "duration": 179,
    "start_time": "2022-12-04T16:54:46.901Z"
   },
   {
    "duration": 234,
    "start_time": "2022-12-04T16:54:48.840Z"
   },
   {
    "duration": 11,
    "start_time": "2022-12-04T16:54:51.825Z"
   },
   {
    "duration": 452,
    "start_time": "2022-12-04T16:55:00.050Z"
   },
   {
    "duration": 642,
    "start_time": "2022-12-04T16:55:04.807Z"
   },
   {
    "duration": 9,
    "start_time": "2022-12-04T16:55:57.866Z"
   },
   {
    "duration": 8,
    "start_time": "2022-12-04T16:56:12.876Z"
   },
   {
    "duration": 3,
    "start_time": "2022-12-04T16:56:17.222Z"
   },
   {
    "duration": 929,
    "start_time": "2022-12-04T16:56:20.278Z"
   },
   {
    "duration": 678,
    "start_time": "2022-12-04T16:56:29.413Z"
   },
   {
    "duration": 315,
    "start_time": "2022-12-04T16:56:40.453Z"
   },
   {
    "duration": 767,
    "start_time": "2022-12-04T16:56:48.186Z"
   },
   {
    "duration": 607,
    "start_time": "2022-12-04T16:57:10.489Z"
   },
   {
    "duration": 648,
    "start_time": "2022-12-04T16:58:09.693Z"
   },
   {
    "duration": 712,
    "start_time": "2022-12-04T16:58:40.339Z"
   },
   {
    "duration": 0,
    "start_time": "2022-12-04T16:59:00.047Z"
   },
   {
    "duration": 670,
    "start_time": "2022-12-04T16:59:00.968Z"
   },
   {
    "duration": 833,
    "start_time": "2022-12-04T17:00:06.823Z"
   },
   {
    "duration": 682,
    "start_time": "2022-12-04T17:02:54.116Z"
   },
   {
    "duration": 50,
    "start_time": "2022-12-04T17:03:38.532Z"
   },
   {
    "duration": 14,
    "start_time": "2022-12-04T17:03:42.026Z"
   },
   {
    "duration": 19,
    "start_time": "2022-12-04T17:03:45.631Z"
   },
   {
    "duration": 24,
    "start_time": "2022-12-04T17:03:56.812Z"
   },
   {
    "duration": 9,
    "start_time": "2022-12-04T17:11:38.770Z"
   },
   {
    "duration": 4,
    "start_time": "2022-12-04T17:12:08.523Z"
   },
   {
    "duration": 11,
    "start_time": "2022-12-04T17:16:04.559Z"
   },
   {
    "duration": 13,
    "start_time": "2022-12-04T17:16:28.824Z"
   },
   {
    "duration": 11,
    "start_time": "2022-12-04T17:16:59.207Z"
   },
   {
    "duration": 10,
    "start_time": "2022-12-04T17:17:23.024Z"
   },
   {
    "duration": 13,
    "start_time": "2022-12-04T17:17:26.313Z"
   },
   {
    "duration": 10,
    "start_time": "2022-12-04T17:17:29.211Z"
   },
   {
    "duration": 12,
    "start_time": "2022-12-04T17:17:42.635Z"
   },
   {
    "duration": 10,
    "start_time": "2022-12-04T17:17:49.064Z"
   },
   {
    "duration": 9,
    "start_time": "2022-12-04T17:17:55.413Z"
   },
   {
    "duration": 12,
    "start_time": "2022-12-04T17:18:34.145Z"
   },
   {
    "duration": 8,
    "start_time": "2022-12-04T17:18:53.555Z"
   },
   {
    "duration": 15,
    "start_time": "2022-12-04T17:19:05.186Z"
   },
   {
    "duration": 4,
    "start_time": "2022-12-04T17:19:27.669Z"
   },
   {
    "duration": 9,
    "start_time": "2022-12-04T17:19:51.475Z"
   },
   {
    "duration": 9,
    "start_time": "2022-12-04T17:20:01.614Z"
   },
   {
    "duration": 10,
    "start_time": "2022-12-04T17:20:07.278Z"
   },
   {
    "duration": 10,
    "start_time": "2022-12-04T17:20:13.037Z"
   },
   {
    "duration": 10,
    "start_time": "2022-12-04T17:20:50.981Z"
   },
   {
    "duration": 12,
    "start_time": "2022-12-04T17:21:05.965Z"
   },
   {
    "duration": 14,
    "start_time": "2022-12-04T17:21:45.403Z"
   },
   {
    "duration": 11,
    "start_time": "2022-12-04T17:21:57.077Z"
   },
   {
    "duration": 14,
    "start_time": "2022-12-04T17:22:11.588Z"
   },
   {
    "duration": 13,
    "start_time": "2022-12-04T17:22:13.076Z"
   },
   {
    "duration": 5,
    "start_time": "2022-12-04T17:22:33.224Z"
   },
   {
    "duration": 4,
    "start_time": "2022-12-04T17:22:45.672Z"
   },
   {
    "duration": 8,
    "start_time": "2022-12-04T17:23:24.174Z"
   },
   {
    "duration": 8,
    "start_time": "2022-12-04T17:23:38.303Z"
   },
   {
    "duration": 7,
    "start_time": "2022-12-04T17:23:43.467Z"
   },
   {
    "duration": 9,
    "start_time": "2022-12-04T17:23:51.432Z"
   },
   {
    "duration": 5,
    "start_time": "2022-12-04T17:24:07.462Z"
   },
   {
    "duration": 76,
    "start_time": "2022-12-04T17:24:13.985Z"
   },
   {
    "duration": 21,
    "start_time": "2022-12-04T17:24:29.029Z"
   },
   {
    "duration": 29,
    "start_time": "2022-12-04T17:24:51.356Z"
   },
   {
    "duration": 37,
    "start_time": "2022-12-04T17:25:43.547Z"
   },
   {
    "duration": 13,
    "start_time": "2022-12-04T17:25:56.241Z"
   },
   {
    "duration": 9,
    "start_time": "2022-12-04T17:26:01.256Z"
   },
   {
    "duration": 8,
    "start_time": "2022-12-04T17:26:22.165Z"
   },
   {
    "duration": 15,
    "start_time": "2022-12-04T17:26:28.087Z"
   },
   {
    "duration": 27,
    "start_time": "2022-12-04T17:26:46.781Z"
   },
   {
    "duration": 255,
    "start_time": "2022-12-04T17:29:35.348Z"
   },
   {
    "duration": 224,
    "start_time": "2022-12-04T17:29:39.362Z"
   },
   {
    "duration": 206,
    "start_time": "2022-12-04T17:29:43.524Z"
   },
   {
    "duration": 13,
    "start_time": "2022-12-04T17:31:29.710Z"
   },
   {
    "duration": 18,
    "start_time": "2022-12-04T17:31:40.564Z"
   },
   {
    "duration": 7,
    "start_time": "2022-12-04T17:31:44.660Z"
   },
   {
    "duration": 51,
    "start_time": "2022-12-04T17:33:38.006Z"
   },
   {
    "duration": 4,
    "start_time": "2022-12-04T17:33:40.692Z"
   },
   {
    "duration": 5,
    "start_time": "2022-12-04T17:33:45.808Z"
   },
   {
    "duration": 62,
    "start_time": "2022-12-04T17:35:05.307Z"
   },
   {
    "duration": 15,
    "start_time": "2022-12-04T17:35:42.216Z"
   },
   {
    "duration": 14,
    "start_time": "2022-12-04T17:35:46.545Z"
   },
   {
    "duration": 14,
    "start_time": "2022-12-04T17:35:55.405Z"
   },
   {
    "duration": 19,
    "start_time": "2022-12-04T17:36:07.206Z"
   },
   {
    "duration": 14,
    "start_time": "2022-12-04T17:36:16.784Z"
   },
   {
    "duration": 12,
    "start_time": "2022-12-04T17:36:22.787Z"
   },
   {
    "duration": 15,
    "start_time": "2022-12-04T17:36:36.507Z"
   },
   {
    "duration": 22,
    "start_time": "2022-12-04T17:37:17.636Z"
   },
   {
    "duration": 50,
    "start_time": "2022-12-04T17:38:53.965Z"
   },
   {
    "duration": 13,
    "start_time": "2022-12-04T17:38:57.268Z"
   },
   {
    "duration": 10,
    "start_time": "2022-12-04T17:39:04.322Z"
   },
   {
    "duration": 22,
    "start_time": "2022-12-04T17:39:14.311Z"
   },
   {
    "duration": 4,
    "start_time": "2022-12-04T17:39:35.350Z"
   },
   {
    "duration": 14,
    "start_time": "2022-12-04T17:39:40.540Z"
   },
   {
    "duration": 3,
    "start_time": "2022-12-04T17:41:20.131Z"
   },
   {
    "duration": 3,
    "start_time": "2022-12-04T17:41:27.233Z"
   },
   {
    "duration": 4,
    "start_time": "2022-12-04T17:41:34.418Z"
   },
   {
    "duration": 51,
    "start_time": "2022-12-04T17:41:34.424Z"
   },
   {
    "duration": 16,
    "start_time": "2022-12-04T17:41:34.477Z"
   },
   {
    "duration": 17,
    "start_time": "2022-12-04T17:41:34.496Z"
   },
   {
    "duration": 789,
    "start_time": "2022-12-04T17:41:34.516Z"
   },
   {
    "duration": 8,
    "start_time": "2022-12-04T17:41:35.307Z"
   },
   {
    "duration": 18,
    "start_time": "2022-12-04T17:41:35.317Z"
   },
   {
    "duration": 3,
    "start_time": "2022-12-04T17:41:35.337Z"
   },
   {
    "duration": 16,
    "start_time": "2022-12-04T17:41:35.341Z"
   },
   {
    "duration": 14,
    "start_time": "2022-12-04T17:41:35.359Z"
   },
   {
    "duration": 15,
    "start_time": "2022-12-04T17:41:38.058Z"
   },
   {
    "duration": 197,
    "start_time": "2022-12-04T17:42:27.081Z"
   },
   {
    "duration": 10,
    "start_time": "2022-12-04T17:42:33.296Z"
   },
   {
    "duration": 11,
    "start_time": "2022-12-04T17:42:38.258Z"
   },
   {
    "duration": 588,
    "start_time": "2022-12-04T17:42:41.167Z"
   },
   {
    "duration": 10,
    "start_time": "2022-12-04T17:42:56.246Z"
   },
   {
    "duration": 0,
    "start_time": "2022-12-04T17:43:44.331Z"
   },
   {
    "duration": 3,
    "start_time": "2022-12-04T17:43:47.396Z"
   },
   {
    "duration": 4,
    "start_time": "2022-12-04T17:43:50.306Z"
   },
   {
    "duration": 34671,
    "start_time": "2022-12-04T17:43:54.274Z"
   },
   {
    "duration": 177,
    "start_time": "2022-12-04T17:44:29.108Z"
   },
   {
    "duration": 84597,
    "start_time": "2022-12-04T17:44:44.580Z"
   },
   {
    "duration": 150,
    "start_time": "2022-12-04T17:46:09.179Z"
   },
   {
    "duration": 167,
    "start_time": "2022-12-04T17:46:15.468Z"
   },
   {
    "duration": 53551,
    "start_time": "2022-12-04T17:46:35.194Z"
   },
   {
    "duration": 108,
    "start_time": "2022-12-04T17:47:29.552Z"
   },
   {
    "duration": 20932,
    "start_time": "2022-12-04T17:48:17.362Z"
   },
   {
    "duration": 5,
    "start_time": "2022-12-04T17:49:12.813Z"
   },
   {
    "duration": 25712,
    "start_time": "2022-12-04T17:49:19.523Z"
   },
   {
    "duration": 11,
    "start_time": "2022-12-04T17:49:50.839Z"
   },
   {
    "duration": 10,
    "start_time": "2022-12-04T17:49:56.893Z"
   },
   {
    "duration": 10,
    "start_time": "2022-12-04T17:50:51.626Z"
   },
   {
    "duration": 140,
    "start_time": "2022-12-04T17:50:55.646Z"
   },
   {
    "duration": 19634,
    "start_time": "2022-12-04T17:51:13.418Z"
   },
   {
    "duration": 0,
    "start_time": "2022-12-04T17:51:33.055Z"
   },
   {
    "duration": 6,
    "start_time": "2022-12-04T17:51:47.355Z"
   },
   {
    "duration": 13,
    "start_time": "2022-12-04T17:51:53.347Z"
   },
   {
    "duration": 88,
    "start_time": "2022-12-04T17:52:02.648Z"
   },
   {
    "duration": 76,
    "start_time": "2022-12-04T17:52:19.842Z"
   },
   {
    "duration": 71,
    "start_time": "2022-12-04T17:52:22.981Z"
   },
   {
    "duration": 106,
    "start_time": "2022-12-04T17:52:45.260Z"
   },
   {
    "duration": 73,
    "start_time": "2022-12-04T17:53:03.441Z"
   },
   {
    "duration": 113,
    "start_time": "2022-12-04T17:53:29.857Z"
   },
   {
    "duration": 6,
    "start_time": "2022-12-04T17:54:32.073Z"
   },
   {
    "duration": 19,
    "start_time": "2022-12-04T17:55:40.508Z"
   },
   {
    "duration": 8,
    "start_time": "2022-12-04T17:56:40.440Z"
   },
   {
    "duration": 8,
    "start_time": "2022-12-04T17:56:43.116Z"
   },
   {
    "duration": 7,
    "start_time": "2022-12-04T17:56:48.153Z"
   },
   {
    "duration": 7,
    "start_time": "2022-12-04T17:56:51.137Z"
   },
   {
    "duration": 7,
    "start_time": "2022-12-04T17:57:00.231Z"
   },
   {
    "duration": 122,
    "start_time": "2022-12-04T17:57:06.470Z"
   },
   {
    "duration": 77,
    "start_time": "2022-12-04T17:57:10.747Z"
   },
   {
    "duration": 4,
    "start_time": "2022-12-04T17:58:29.655Z"
   },
   {
    "duration": 5,
    "start_time": "2022-12-04T17:58:35.570Z"
   },
   {
    "duration": 79,
    "start_time": "2022-12-04T17:58:54.384Z"
   },
   {
    "duration": 80,
    "start_time": "2022-12-04T17:59:19.665Z"
   },
   {
    "duration": 125,
    "start_time": "2022-12-04T17:59:57.879Z"
   },
   {
    "duration": 78,
    "start_time": "2022-12-04T18:00:33.480Z"
   },
   {
    "duration": 94,
    "start_time": "2022-12-04T18:00:36.683Z"
   },
   {
    "duration": 109,
    "start_time": "2022-12-04T18:00:40.942Z"
   },
   {
    "duration": 76,
    "start_time": "2022-12-04T18:00:44.698Z"
   },
   {
    "duration": 4,
    "start_time": "2022-12-04T18:01:41.130Z"
   },
   {
    "duration": 4,
    "start_time": "2022-12-04T18:01:44.790Z"
   },
   {
    "duration": 4,
    "start_time": "2022-12-04T18:01:46.772Z"
   },
   {
    "duration": 58,
    "start_time": "2022-12-04T18:02:05.502Z"
   },
   {
    "duration": 76,
    "start_time": "2022-12-04T18:02:11.080Z"
   },
   {
    "duration": 75,
    "start_time": "2022-12-04T18:02:14.122Z"
   },
   {
    "duration": 83,
    "start_time": "2022-12-04T18:02:16.594Z"
   },
   {
    "duration": 96,
    "start_time": "2022-12-04T18:02:18.742Z"
   },
   {
    "duration": 75,
    "start_time": "2022-12-04T18:02:20.492Z"
   },
   {
    "duration": 74,
    "start_time": "2022-12-04T18:02:22.858Z"
   },
   {
    "duration": 88,
    "start_time": "2022-12-04T18:02:32.626Z"
   },
   {
    "duration": 89,
    "start_time": "2022-12-04T18:02:36.634Z"
   },
   {
    "duration": 78,
    "start_time": "2022-12-04T18:02:48.222Z"
   },
   {
    "duration": 88,
    "start_time": "2022-12-04T18:02:53.918Z"
   },
   {
    "duration": 88,
    "start_time": "2022-12-04T18:03:34.446Z"
   },
   {
    "duration": 80,
    "start_time": "2022-12-04T18:04:20.637Z"
   },
   {
    "duration": 88,
    "start_time": "2022-12-04T18:05:01.024Z"
   },
   {
    "duration": 93,
    "start_time": "2022-12-04T18:05:04.267Z"
   },
   {
    "duration": 127,
    "start_time": "2022-12-04T18:05:06.371Z"
   },
   {
    "duration": 124,
    "start_time": "2022-12-04T18:05:12.436Z"
   },
   {
    "duration": 85,
    "start_time": "2022-12-04T18:05:15.409Z"
   },
   {
    "duration": 81,
    "start_time": "2022-12-04T18:05:17.583Z"
   },
   {
    "duration": 82,
    "start_time": "2022-12-04T18:05:23.231Z"
   },
   {
    "duration": 88,
    "start_time": "2022-12-04T18:05:26.772Z"
   },
   {
    "duration": 86,
    "start_time": "2022-12-04T18:05:34.704Z"
   },
   {
    "duration": 148,
    "start_time": "2022-12-04T18:05:37.621Z"
   },
   {
    "duration": 80,
    "start_time": "2022-12-04T18:05:43.223Z"
   },
   {
    "duration": 80,
    "start_time": "2022-12-04T18:05:47.794Z"
   },
   {
    "duration": 84,
    "start_time": "2022-12-04T18:05:52.774Z"
   },
   {
    "duration": 94,
    "start_time": "2022-12-04T18:07:24.897Z"
   },
   {
    "duration": 96,
    "start_time": "2022-12-04T18:07:28.175Z"
   },
   {
    "duration": 131,
    "start_time": "2022-12-04T18:07:31.844Z"
   },
   {
    "duration": 129,
    "start_time": "2022-12-04T18:07:34.541Z"
   },
   {
    "duration": 101,
    "start_time": "2022-12-04T18:07:37.301Z"
   },
   {
    "duration": 99,
    "start_time": "2022-12-04T18:07:42.656Z"
   },
   {
    "duration": 86,
    "start_time": "2022-12-04T18:07:47.483Z"
   },
   {
    "duration": 99,
    "start_time": "2022-12-04T18:07:53.381Z"
   },
   {
    "duration": 108,
    "start_time": "2022-12-04T18:07:57.929Z"
   },
   {
    "duration": 21,
    "start_time": "2022-12-04T18:09:55.885Z"
   },
   {
    "duration": 17,
    "start_time": "2022-12-04T18:11:15.713Z"
   },
   {
    "duration": 17,
    "start_time": "2022-12-04T18:11:25.361Z"
   },
   {
    "duration": 30,
    "start_time": "2022-12-04T18:11:28.934Z"
   },
   {
    "duration": 158,
    "start_time": "2022-12-04T18:11:38.219Z"
   },
   {
    "duration": 16,
    "start_time": "2022-12-04T18:11:41.205Z"
   },
   {
    "duration": 165,
    "start_time": "2022-12-04T18:11:52.847Z"
   },
   {
    "duration": 167,
    "start_time": "2022-12-04T18:12:03.744Z"
   },
   {
    "duration": 178,
    "start_time": "2022-12-04T18:12:25.808Z"
   },
   {
    "duration": 148,
    "start_time": "2022-12-04T18:12:45.117Z"
   },
   {
    "duration": 22,
    "start_time": "2022-12-04T18:12:54.289Z"
   },
   {
    "duration": 27,
    "start_time": "2022-12-04T18:12:59.269Z"
   },
   {
    "duration": 192,
    "start_time": "2022-12-04T18:13:02.414Z"
   },
   {
    "duration": 15,
    "start_time": "2022-12-04T18:13:28.523Z"
   },
   {
    "duration": 5,
    "start_time": "2022-12-04T18:13:44.737Z"
   },
   {
    "duration": 17,
    "start_time": "2022-12-04T18:13:52.150Z"
   },
   {
    "duration": 7,
    "start_time": "2022-12-04T18:14:04.144Z"
   },
   {
    "duration": 119,
    "start_time": "2022-12-04T18:14:08.342Z"
   },
   {
    "duration": 156,
    "start_time": "2022-12-04T18:14:14.085Z"
   },
   {
    "duration": 144,
    "start_time": "2022-12-04T18:14:19.509Z"
   },
   {
    "duration": 144,
    "start_time": "2022-12-04T18:14:38.779Z"
   },
   {
    "duration": 123,
    "start_time": "2022-12-04T18:14:44.022Z"
   },
   {
    "duration": 27,
    "start_time": "2022-12-04T18:15:01.024Z"
   },
   {
    "duration": 6,
    "start_time": "2022-12-04T18:15:10.581Z"
   },
   {
    "duration": 6,
    "start_time": "2022-12-04T18:15:25.174Z"
   },
   {
    "duration": 275,
    "start_time": "2022-12-04T18:15:34.187Z"
   },
   {
    "duration": 18,
    "start_time": "2022-12-04T18:16:08.840Z"
   },
   {
    "duration": 161,
    "start_time": "2022-12-04T18:16:14.404Z"
   },
   {
    "duration": 18,
    "start_time": "2022-12-04T18:16:31.046Z"
   },
   {
    "duration": 17,
    "start_time": "2022-12-04T18:16:35.657Z"
   },
   {
    "duration": 13,
    "start_time": "2022-12-04T18:16:40.679Z"
   },
   {
    "duration": 15,
    "start_time": "2022-12-04T18:16:46.778Z"
   },
   {
    "duration": 15,
    "start_time": "2022-12-04T18:17:01.991Z"
   },
   {
    "duration": 14,
    "start_time": "2022-12-04T18:17:07.065Z"
   },
   {
    "duration": 16,
    "start_time": "2022-12-04T18:17:40.316Z"
   },
   {
    "duration": 154,
    "start_time": "2022-12-04T18:17:57.719Z"
   },
   {
    "duration": 140,
    "start_time": "2022-12-04T18:18:04.403Z"
   },
   {
    "duration": 126,
    "start_time": "2022-12-04T18:18:20.412Z"
   },
   {
    "duration": 134,
    "start_time": "2022-12-04T18:18:22.917Z"
   },
   {
    "duration": 7,
    "start_time": "2022-12-04T18:19:54.768Z"
   },
   {
    "duration": 11,
    "start_time": "2022-12-04T18:21:29.937Z"
   },
   {
    "duration": 153,
    "start_time": "2022-12-04T18:21:32.807Z"
   },
   {
    "duration": 170,
    "start_time": "2022-12-04T18:21:38.736Z"
   },
   {
    "duration": 17,
    "start_time": "2022-12-04T18:22:00.976Z"
   },
   {
    "duration": 132,
    "start_time": "2022-12-04T18:22:24.492Z"
   },
   {
    "duration": 135,
    "start_time": "2022-12-04T18:22:33.189Z"
   },
   {
    "duration": 5,
    "start_time": "2022-12-04T18:22:41.053Z"
   },
   {
    "duration": 7,
    "start_time": "2022-12-04T18:22:45.820Z"
   },
   {
    "duration": 8,
    "start_time": "2022-12-04T18:23:38.751Z"
   },
   {
    "duration": 50,
    "start_time": "2022-12-04T18:23:41.963Z"
   },
   {
    "duration": 143,
    "start_time": "2022-12-04T18:23:45.605Z"
   },
   {
    "duration": 13,
    "start_time": "2022-12-04T18:24:20.040Z"
   },
   {
    "duration": 25,
    "start_time": "2022-12-04T18:25:20.849Z"
   },
   {
    "duration": 21,
    "start_time": "2022-12-04T18:25:35.856Z"
   },
   {
    "duration": 4,
    "start_time": "2022-12-04T18:26:14.522Z"
   },
   {
    "duration": 24,
    "start_time": "2022-12-04T18:26:16.767Z"
   },
   {
    "duration": 18,
    "start_time": "2022-12-04T18:26:46.743Z"
   },
   {
    "duration": 17,
    "start_time": "2022-12-04T18:26:56.529Z"
   },
   {
    "duration": 7,
    "start_time": "2022-12-04T18:27:08.508Z"
   },
   {
    "duration": 21,
    "start_time": "2022-12-04T18:27:13.593Z"
   },
   {
    "duration": 14,
    "start_time": "2022-12-04T18:27:33.121Z"
   },
   {
    "duration": 27,
    "start_time": "2022-12-04T18:27:47.189Z"
   },
   {
    "duration": 22,
    "start_time": "2022-12-04T18:27:58.805Z"
   },
   {
    "duration": 27,
    "start_time": "2022-12-04T18:28:03.216Z"
   },
   {
    "duration": 25,
    "start_time": "2022-12-04T18:28:45.341Z"
   },
   {
    "duration": 19,
    "start_time": "2022-12-04T18:28:51.515Z"
   },
   {
    "duration": 24,
    "start_time": "2022-12-04T18:28:57.008Z"
   },
   {
    "duration": 29,
    "start_time": "2022-12-04T18:28:57.669Z"
   },
   {
    "duration": 233,
    "start_time": "2022-12-04T18:30:01.726Z"
   },
   {
    "duration": 255,
    "start_time": "2022-12-04T18:30:09.714Z"
   },
   {
    "duration": 225,
    "start_time": "2022-12-04T18:30:16.321Z"
   },
   {
    "duration": 294,
    "start_time": "2022-12-04T18:30:49.169Z"
   },
   {
    "duration": 241,
    "start_time": "2022-12-04T18:30:54.994Z"
   },
   {
    "duration": 372,
    "start_time": "2022-12-04T18:31:16.531Z"
   },
   {
    "duration": 33,
    "start_time": "2022-12-04T18:31:24.680Z"
   },
   {
    "duration": 45,
    "start_time": "2022-12-04T18:31:34.447Z"
   },
   {
    "duration": 18,
    "start_time": "2022-12-04T18:31:34.980Z"
   },
   {
    "duration": 20,
    "start_time": "2022-12-04T18:31:35.408Z"
   },
   {
    "duration": 919,
    "start_time": "2022-12-04T18:31:37.828Z"
   },
   {
    "duration": 8,
    "start_time": "2022-12-04T18:31:39.479Z"
   },
   {
    "duration": 18,
    "start_time": "2022-12-04T18:31:42.733Z"
   },
   {
    "duration": 22,
    "start_time": "2022-12-04T18:31:43.240Z"
   },
   {
    "duration": 20,
    "start_time": "2022-12-04T18:31:47.484Z"
   },
   {
    "duration": 100,
    "start_time": "2022-12-04T18:31:49.290Z"
   },
   {
    "duration": 91,
    "start_time": "2022-12-04T18:31:54.597Z"
   },
   {
    "duration": 150,
    "start_time": "2022-12-04T18:31:58.408Z"
   },
   {
    "duration": 37,
    "start_time": "2022-12-04T18:32:30.833Z"
   },
   {
    "duration": 309,
    "start_time": "2022-12-04T18:32:50.174Z"
   },
   {
    "duration": 1506,
    "start_time": "2022-12-04T18:32:57.959Z"
   },
   {
    "duration": 240,
    "start_time": "2022-12-04T18:33:02.859Z"
   },
   {
    "duration": 21,
    "start_time": "2022-12-04T18:33:20.382Z"
   },
   {
    "duration": 321,
    "start_time": "2022-12-04T18:33:49.899Z"
   },
   {
    "duration": 23,
    "start_time": "2022-12-04T18:34:02.113Z"
   },
   {
    "duration": 18,
    "start_time": "2022-12-04T18:34:21.136Z"
   },
   {
    "duration": 193,
    "start_time": "2022-12-04T18:34:26.034Z"
   },
   {
    "duration": 5,
    "start_time": "2022-12-04T18:37:10.206Z"
   },
   {
    "duration": 13,
    "start_time": "2022-12-04T18:37:22.121Z"
   },
   {
    "duration": 25,
    "start_time": "2022-12-04T18:37:28.863Z"
   },
   {
    "duration": 31,
    "start_time": "2022-12-04T18:37:46.874Z"
   },
   {
    "duration": 10,
    "start_time": "2022-12-04T18:37:54.702Z"
   },
   {
    "duration": 135,
    "start_time": "2022-12-04T18:38:00.603Z"
   },
   {
    "duration": 12,
    "start_time": "2022-12-04T18:38:03.593Z"
   },
   {
    "duration": 11,
    "start_time": "2022-12-04T18:38:12.945Z"
   },
   {
    "duration": 13,
    "start_time": "2022-12-04T18:38:20.042Z"
   },
   {
    "duration": 10,
    "start_time": "2022-12-04T18:38:21.905Z"
   },
   {
    "duration": 10,
    "start_time": "2022-12-04T18:38:30.601Z"
   },
   {
    "duration": 10,
    "start_time": "2022-12-04T18:39:33.850Z"
   },
   {
    "duration": 28,
    "start_time": "2022-12-04T18:40:28.305Z"
   },
   {
    "duration": 28,
    "start_time": "2022-12-04T18:40:38.467Z"
   },
   {
    "duration": 252,
    "start_time": "2022-12-04T18:40:47.017Z"
   },
   {
    "duration": 227,
    "start_time": "2022-12-04T18:40:54.010Z"
   },
   {
    "duration": 28,
    "start_time": "2022-12-04T18:41:02.503Z"
   },
   {
    "duration": 195,
    "start_time": "2022-12-04T18:42:02.183Z"
   },
   {
    "duration": 102,
    "start_time": "2022-12-04T18:45:05.961Z"
   },
   {
    "duration": 82,
    "start_time": "2022-12-04T18:45:13.430Z"
   },
   {
    "duration": 5,
    "start_time": "2022-12-04T18:45:50.876Z"
   },
   {
    "duration": 24,
    "start_time": "2022-12-04T18:45:56.721Z"
   },
   {
    "duration": 7,
    "start_time": "2022-12-04T18:46:05.351Z"
   },
   {
    "duration": 32,
    "start_time": "2022-12-04T18:46:33.005Z"
   },
   {
    "duration": 8,
    "start_time": "2022-12-04T18:46:39.444Z"
   },
   {
    "duration": 2,
    "start_time": "2022-12-04T18:46:52.174Z"
   },
   {
    "duration": 12,
    "start_time": "2022-12-04T19:13:42.656Z"
   },
   {
    "duration": 11,
    "start_time": "2022-12-04T19:13:46.620Z"
   },
   {
    "duration": 9,
    "start_time": "2022-12-04T19:13:53.410Z"
   },
   {
    "duration": 3,
    "start_time": "2022-12-04T20:27:51.347Z"
   },
   {
    "duration": 42,
    "start_time": "2022-12-04T20:27:51.352Z"
   },
   {
    "duration": 14,
    "start_time": "2022-12-04T20:27:51.396Z"
   },
   {
    "duration": 28,
    "start_time": "2022-12-04T20:27:51.411Z"
   },
   {
    "duration": 946,
    "start_time": "2022-12-04T20:27:51.449Z"
   },
   {
    "duration": 8,
    "start_time": "2022-12-04T20:27:52.397Z"
   },
   {
    "duration": 35,
    "start_time": "2022-12-04T20:27:52.407Z"
   },
   {
    "duration": 49,
    "start_time": "2022-12-04T20:27:52.445Z"
   },
   {
    "duration": 33,
    "start_time": "2022-12-04T20:27:52.496Z"
   },
   {
    "duration": 55,
    "start_time": "2022-12-04T20:27:52.530Z"
   },
   {
    "duration": 17,
    "start_time": "2022-12-04T20:27:52.587Z"
   },
   {
    "duration": 144,
    "start_time": "2022-12-04T20:27:52.606Z"
   },
   {
    "duration": 124,
    "start_time": "2022-12-04T20:27:52.754Z"
   },
   {
    "duration": 4,
    "start_time": "2022-12-04T20:27:52.882Z"
   },
   {
    "duration": 198,
    "start_time": "2022-12-04T20:27:52.888Z"
   },
   {
    "duration": 241,
    "start_time": "2022-12-04T20:27:53.088Z"
   },
   {
    "duration": 37,
    "start_time": "2022-12-04T20:27:53.331Z"
   },
   {
    "duration": 337,
    "start_time": "2022-12-04T20:27:53.370Z"
   },
   {
    "duration": 15,
    "start_time": "2022-12-04T20:27:53.709Z"
   },
   {
    "duration": 4,
    "start_time": "2022-12-04T20:29:12.859Z"
   },
   {
    "duration": 21,
    "start_time": "2022-12-04T20:29:17.832Z"
   },
   {
    "duration": 21,
    "start_time": "2022-12-04T20:29:59.120Z"
   },
   {
    "duration": 7,
    "start_time": "2022-12-04T20:30:45.106Z"
   },
   {
    "duration": 24,
    "start_time": "2022-12-04T20:30:48.923Z"
   },
   {
    "duration": 49,
    "start_time": "2022-12-04T20:31:45.720Z"
   },
   {
    "duration": 15,
    "start_time": "2022-12-04T20:32:00.582Z"
   },
   {
    "duration": 3,
    "start_time": "2022-12-04T20:37:59.818Z"
   },
   {
    "duration": 2,
    "start_time": "2022-12-04T20:38:07.507Z"
   },
   {
    "duration": 9,
    "start_time": "2022-12-04T20:41:08.599Z"
   },
   {
    "duration": 11,
    "start_time": "2022-12-04T20:41:13.774Z"
   },
   {
    "duration": 19,
    "start_time": "2022-12-04T20:41:16.770Z"
   },
   {
    "duration": 21,
    "start_time": "2022-12-04T20:41:30.690Z"
   },
   {
    "duration": 41,
    "start_time": "2022-12-04T20:41:40.028Z"
   },
   {
    "duration": 35,
    "start_time": "2022-12-04T20:41:59.680Z"
   },
   {
    "duration": 20,
    "start_time": "2022-12-04T20:42:07.094Z"
   },
   {
    "duration": 54,
    "start_time": "2022-12-04T20:42:22.327Z"
   },
   {
    "duration": 26,
    "start_time": "2022-12-04T20:42:38.564Z"
   },
   {
    "duration": 567,
    "start_time": "2022-12-04T20:43:58.365Z"
   },
   {
    "duration": 3,
    "start_time": "2022-12-04T20:44:21.106Z"
   },
   {
    "duration": 13,
    "start_time": "2022-12-04T20:44:38.463Z"
   },
   {
    "duration": 10,
    "start_time": "2022-12-04T20:44:44.095Z"
   },
   {
    "duration": 10,
    "start_time": "2022-12-04T20:44:51.474Z"
   },
   {
    "duration": 33,
    "start_time": "2022-12-04T20:45:05.522Z"
   },
   {
    "duration": 28,
    "start_time": "2022-12-04T20:45:28.128Z"
   },
   {
    "duration": 22,
    "start_time": "2022-12-04T20:45:36.274Z"
   },
   {
    "duration": 17,
    "start_time": "2022-12-04T20:45:45.704Z"
   },
   {
    "duration": 20,
    "start_time": "2022-12-04T20:46:00.165Z"
   },
   {
    "duration": 33,
    "start_time": "2022-12-04T20:46:12.333Z"
   },
   {
    "duration": 14,
    "start_time": "2022-12-04T20:47:02.709Z"
   },
   {
    "duration": 13,
    "start_time": "2022-12-04T20:47:08.208Z"
   },
   {
    "duration": 39,
    "start_time": "2022-12-04T20:47:10.163Z"
   },
   {
    "duration": 3,
    "start_time": "2022-12-04T20:48:42.088Z"
   },
   {
    "duration": 3,
    "start_time": "2022-12-04T20:49:55.908Z"
   },
   {
    "duration": 39,
    "start_time": "2022-12-04T20:50:22.674Z"
   },
   {
    "duration": 20,
    "start_time": "2022-12-04T20:53:04.569Z"
   },
   {
    "duration": 51,
    "start_time": "2022-12-04T20:53:19.316Z"
   },
   {
    "duration": 28,
    "start_time": "2022-12-04T20:53:31.392Z"
   },
   {
    "duration": 17,
    "start_time": "2022-12-04T20:53:51.797Z"
   },
   {
    "duration": 49,
    "start_time": "2022-12-04T20:54:01.708Z"
   },
   {
    "duration": 4,
    "start_time": "2022-12-04T20:57:14.316Z"
   },
   {
    "duration": 70,
    "start_time": "2022-12-04T20:57:14.321Z"
   },
   {
    "duration": 11,
    "start_time": "2022-12-04T20:57:14.393Z"
   },
   {
    "duration": 15,
    "start_time": "2022-12-04T20:57:14.406Z"
   },
   {
    "duration": 932,
    "start_time": "2022-12-04T20:57:14.422Z"
   },
   {
    "duration": 17,
    "start_time": "2022-12-04T20:57:15.361Z"
   },
   {
    "duration": 31,
    "start_time": "2022-12-04T20:57:15.382Z"
   },
   {
    "duration": 53,
    "start_time": "2022-12-04T20:57:15.415Z"
   },
   {
    "duration": 51,
    "start_time": "2022-12-04T20:57:15.472Z"
   },
   {
    "duration": 30,
    "start_time": "2022-12-04T20:57:15.525Z"
   },
   {
    "duration": 45,
    "start_time": "2022-12-04T20:57:15.562Z"
   },
   {
    "duration": 131,
    "start_time": "2022-12-04T20:57:15.610Z"
   },
   {
    "duration": 120,
    "start_time": "2022-12-04T20:57:15.751Z"
   },
   {
    "duration": 7,
    "start_time": "2022-12-04T20:57:15.873Z"
   },
   {
    "duration": 231,
    "start_time": "2022-12-04T20:57:15.881Z"
   },
   {
    "duration": 256,
    "start_time": "2022-12-04T20:57:16.114Z"
   },
   {
    "duration": 28,
    "start_time": "2022-12-04T20:57:16.373Z"
   },
   {
    "duration": 375,
    "start_time": "2022-12-04T20:57:16.403Z"
   },
   {
    "duration": 21,
    "start_time": "2022-12-04T20:57:16.782Z"
   },
   {
    "duration": 13,
    "start_time": "2022-12-04T20:57:16.805Z"
   },
   {
    "duration": 108,
    "start_time": "2022-12-04T20:57:16.820Z"
   },
   {
    "duration": 40,
    "start_time": "2022-12-04T20:57:19.318Z"
   },
   {
    "duration": 3,
    "start_time": "2022-12-04T20:57:37.021Z"
   },
   {
    "duration": 32,
    "start_time": "2022-12-04T20:57:59.899Z"
   },
   {
    "duration": 7,
    "start_time": "2022-12-04T20:59:08.136Z"
   },
   {
    "duration": 94,
    "start_time": "2022-12-04T20:59:08.152Z"
   },
   {
    "duration": 17,
    "start_time": "2022-12-04T20:59:08.251Z"
   },
   {
    "duration": 44,
    "start_time": "2022-12-04T20:59:08.270Z"
   },
   {
    "duration": 994,
    "start_time": "2022-12-04T20:59:08.316Z"
   },
   {
    "duration": 6,
    "start_time": "2022-12-04T20:59:09.312Z"
   },
   {
    "duration": 20,
    "start_time": "2022-12-04T20:59:09.320Z"
   },
   {
    "duration": 28,
    "start_time": "2022-12-04T20:59:09.352Z"
   },
   {
    "duration": 15,
    "start_time": "2022-12-04T20:59:09.382Z"
   },
   {
    "duration": 15,
    "start_time": "2022-12-04T20:59:09.399Z"
   },
   {
    "duration": 17,
    "start_time": "2022-12-04T20:59:09.415Z"
   },
   {
    "duration": 104,
    "start_time": "2022-12-04T20:59:09.433Z"
   },
   {
    "duration": 137,
    "start_time": "2022-12-04T20:59:09.541Z"
   },
   {
    "duration": 3,
    "start_time": "2022-12-04T20:59:09.681Z"
   },
   {
    "duration": 197,
    "start_time": "2022-12-04T20:59:09.686Z"
   },
   {
    "duration": 205,
    "start_time": "2022-12-04T20:59:09.885Z"
   },
   {
    "duration": 26,
    "start_time": "2022-12-04T20:59:10.092Z"
   },
   {
    "duration": 293,
    "start_time": "2022-12-04T20:59:10.120Z"
   },
   {
    "duration": 14,
    "start_time": "2022-12-04T20:59:10.414Z"
   },
   {
    "duration": 21,
    "start_time": "2022-12-04T20:59:10.441Z"
   },
   {
    "duration": 37,
    "start_time": "2022-12-04T20:59:10.464Z"
   },
   {
    "duration": 24,
    "start_time": "2022-12-04T20:59:10.502Z"
   },
   {
    "duration": 6,
    "start_time": "2022-12-04T20:59:10.527Z"
   },
   {
    "duration": 34,
    "start_time": "2022-12-04T20:59:10.535Z"
   },
   {
    "duration": 32,
    "start_time": "2022-12-04T20:59:23.759Z"
   },
   {
    "duration": 22,
    "start_time": "2022-12-04T20:59:44.802Z"
   },
   {
    "duration": 18,
    "start_time": "2022-12-04T21:00:14.074Z"
   },
   {
    "duration": 55,
    "start_time": "2022-12-04T21:00:59.411Z"
   },
   {
    "duration": 18,
    "start_time": "2022-12-04T21:02:15.775Z"
   },
   {
    "duration": 60,
    "start_time": "2022-12-04T21:02:28.305Z"
   },
   {
    "duration": 52,
    "start_time": "2022-12-04T21:02:36.755Z"
   },
   {
    "duration": 53,
    "start_time": "2022-12-04T21:02:39.921Z"
   },
   {
    "duration": 40,
    "start_time": "2022-12-04T21:02:42.162Z"
   },
   {
    "duration": 11,
    "start_time": "2022-12-04T21:02:58.377Z"
   },
   {
    "duration": 34,
    "start_time": "2022-12-04T21:03:00.740Z"
   },
   {
    "duration": 57,
    "start_time": "2022-12-04T21:03:07.004Z"
   },
   {
    "duration": 34,
    "start_time": "2022-12-04T21:03:23.675Z"
   },
   {
    "duration": 25,
    "start_time": "2022-12-04T21:03:33.663Z"
   },
   {
    "duration": 22,
    "start_time": "2022-12-04T21:03:55.612Z"
   },
   {
    "duration": 28,
    "start_time": "2022-12-04T21:03:57.921Z"
   },
   {
    "duration": 21,
    "start_time": "2022-12-04T21:04:29.897Z"
   },
   {
    "duration": 9,
    "start_time": "2022-12-04T21:04:46.620Z"
   },
   {
    "duration": 17,
    "start_time": "2022-12-04T21:04:50.764Z"
   },
   {
    "duration": 21,
    "start_time": "2022-12-04T21:05:00.964Z"
   },
   {
    "duration": 21,
    "start_time": "2022-12-04T21:06:16.425Z"
   },
   {
    "duration": 19,
    "start_time": "2022-12-04T21:06:19.199Z"
   },
   {
    "duration": 17,
    "start_time": "2022-12-04T21:06:20.992Z"
   },
   {
    "duration": 34,
    "start_time": "2022-12-04T21:06:42.515Z"
   },
   {
    "duration": 13,
    "start_time": "2022-12-04T21:07:37.912Z"
   },
   {
    "duration": 26,
    "start_time": "2022-12-04T21:07:45.031Z"
   },
   {
    "duration": 6,
    "start_time": "2022-12-04T21:09:21.161Z"
   },
   {
    "duration": 58,
    "start_time": "2022-12-04T21:09:21.172Z"
   },
   {
    "duration": 27,
    "start_time": "2022-12-04T21:09:21.232Z"
   },
   {
    "duration": 40,
    "start_time": "2022-12-04T21:09:21.262Z"
   },
   {
    "duration": 869,
    "start_time": "2022-12-04T21:09:21.304Z"
   },
   {
    "duration": 7,
    "start_time": "2022-12-04T21:09:22.176Z"
   },
   {
    "duration": 26,
    "start_time": "2022-12-04T21:09:22.184Z"
   },
   {
    "duration": 39,
    "start_time": "2022-12-04T21:09:22.212Z"
   },
   {
    "duration": 57,
    "start_time": "2022-12-04T21:09:22.253Z"
   },
   {
    "duration": 54,
    "start_time": "2022-12-04T21:09:22.312Z"
   },
   {
    "duration": 49,
    "start_time": "2022-12-04T21:09:22.370Z"
   },
   {
    "duration": 167,
    "start_time": "2022-12-04T21:09:22.421Z"
   },
   {
    "duration": 125,
    "start_time": "2022-12-04T21:09:22.590Z"
   },
   {
    "duration": 3,
    "start_time": "2022-12-04T21:09:22.717Z"
   },
   {
    "duration": 205,
    "start_time": "2022-12-04T21:09:22.724Z"
   },
   {
    "duration": 188,
    "start_time": "2022-12-04T21:09:22.931Z"
   },
   {
    "duration": 51,
    "start_time": "2022-12-04T21:09:23.120Z"
   },
   {
    "duration": 257,
    "start_time": "2022-12-04T21:09:23.173Z"
   },
   {
    "duration": 26,
    "start_time": "2022-12-04T21:09:23.435Z"
   },
   {
    "duration": 24,
    "start_time": "2022-12-04T21:09:23.466Z"
   },
   {
    "duration": 36,
    "start_time": "2022-12-04T21:09:23.492Z"
   },
   {
    "duration": 32,
    "start_time": "2022-12-04T21:09:23.530Z"
   },
   {
    "duration": 21,
    "start_time": "2022-12-04T21:09:23.565Z"
   },
   {
    "duration": 31,
    "start_time": "2022-12-04T21:09:23.588Z"
   },
   {
    "duration": 63,
    "start_time": "2022-12-04T21:09:42.203Z"
   },
   {
    "duration": 43,
    "start_time": "2022-12-04T21:09:44.123Z"
   },
   {
    "duration": 74,
    "start_time": "2022-12-04T21:13:37.208Z"
   },
   {
    "duration": 89,
    "start_time": "2022-12-04T21:14:09.131Z"
   },
   {
    "duration": 69,
    "start_time": "2022-12-04T21:14:46.430Z"
   },
   {
    "duration": 46,
    "start_time": "2022-12-04T21:14:56.480Z"
   },
   {
    "duration": 225,
    "start_time": "2022-12-04T21:15:09.600Z"
   },
   {
    "duration": 3,
    "start_time": "2022-12-04T21:15:23.717Z"
   },
   {
    "duration": 248,
    "start_time": "2022-12-04T21:15:29.918Z"
   },
   {
    "duration": 357,
    "start_time": "2022-12-04T21:15:39.574Z"
   },
   {
    "duration": 4,
    "start_time": "2022-12-04T21:16:31.546Z"
   },
   {
    "duration": 409,
    "start_time": "2022-12-04T21:16:55.166Z"
   },
   {
    "duration": 4,
    "start_time": "2022-12-04T21:17:02.071Z"
   },
   {
    "duration": 406,
    "start_time": "2022-12-04T21:17:47.776Z"
   },
   {
    "duration": 4,
    "start_time": "2022-12-04T21:17:50.267Z"
   },
   {
    "duration": 6,
    "start_time": "2022-12-04T21:17:59.117Z"
   },
   {
    "duration": 4,
    "start_time": "2022-12-04T21:18:05.528Z"
   },
   {
    "duration": 4,
    "start_time": "2022-12-04T21:18:47.572Z"
   },
   {
    "duration": 412,
    "start_time": "2022-12-04T21:19:46.499Z"
   },
   {
    "duration": 388,
    "start_time": "2022-12-04T21:19:55.489Z"
   },
   {
    "duration": 4,
    "start_time": "2022-12-04T21:20:10.868Z"
   },
   {
    "duration": 5,
    "start_time": "2022-12-04T21:20:15.067Z"
   },
   {
    "duration": 289,
    "start_time": "2022-12-04T21:20:17.828Z"
   },
   {
    "duration": 347,
    "start_time": "2022-12-04T21:20:25.117Z"
   },
   {
    "duration": 406,
    "start_time": "2022-12-04T21:20:29.999Z"
   },
   {
    "duration": 454,
    "start_time": "2022-12-04T21:20:32.569Z"
   },
   {
    "duration": 402,
    "start_time": "2022-12-04T21:20:35.571Z"
   },
   {
    "duration": 756,
    "start_time": "2022-12-04T21:20:55.175Z"
   },
   {
    "duration": 3,
    "start_time": "2022-12-04T21:25:56.006Z"
   },
   {
    "duration": 74,
    "start_time": "2022-12-04T21:25:56.012Z"
   },
   {
    "duration": 11,
    "start_time": "2022-12-04T21:25:56.087Z"
   },
   {
    "duration": 22,
    "start_time": "2022-12-04T21:25:56.100Z"
   },
   {
    "duration": 887,
    "start_time": "2022-12-04T21:25:56.124Z"
   },
   {
    "duration": 6,
    "start_time": "2022-12-04T21:25:57.013Z"
   },
   {
    "duration": 5,
    "start_time": "2022-12-04T21:25:57.020Z"
   },
   {
    "duration": 39,
    "start_time": "2022-12-04T21:25:57.026Z"
   },
   {
    "duration": 15,
    "start_time": "2022-12-04T21:25:57.066Z"
   },
   {
    "duration": 14,
    "start_time": "2022-12-04T21:25:57.083Z"
   },
   {
    "duration": 23,
    "start_time": "2022-12-04T21:25:57.099Z"
   },
   {
    "duration": 96,
    "start_time": "2022-12-04T21:25:57.123Z"
   },
   {
    "duration": 109,
    "start_time": "2022-12-04T21:25:57.220Z"
   },
   {
    "duration": 3,
    "start_time": "2022-12-04T21:25:57.331Z"
   },
   {
    "duration": 183,
    "start_time": "2022-12-04T21:25:57.335Z"
   },
   {
    "duration": 195,
    "start_time": "2022-12-04T21:25:57.520Z"
   },
   {
    "duration": 48,
    "start_time": "2022-12-04T21:25:57.716Z"
   },
   {
    "duration": 256,
    "start_time": "2022-12-04T21:25:57.767Z"
   },
   {
    "duration": 36,
    "start_time": "2022-12-04T21:25:58.025Z"
   },
   {
    "duration": 8,
    "start_time": "2022-12-04T21:25:58.069Z"
   },
   {
    "duration": 7,
    "start_time": "2022-12-04T21:25:58.080Z"
   },
   {
    "duration": 7,
    "start_time": "2022-12-04T21:25:58.089Z"
   },
   {
    "duration": 6,
    "start_time": "2022-12-04T21:25:58.097Z"
   },
   {
    "duration": 7,
    "start_time": "2022-12-04T21:25:58.105Z"
   },
   {
    "duration": 7,
    "start_time": "2022-12-04T21:25:58.114Z"
   },
   {
    "duration": 5,
    "start_time": "2022-12-04T21:25:58.123Z"
   },
   {
    "duration": 245,
    "start_time": "2022-12-04T21:29:27.323Z"
   },
   {
    "duration": 181,
    "start_time": "2022-12-04T21:29:45.912Z"
   },
   {
    "duration": 210,
    "start_time": "2022-12-04T21:29:51.705Z"
   },
   {
    "duration": 11,
    "start_time": "2022-12-04T21:31:18.716Z"
   },
   {
    "duration": 25,
    "start_time": "2022-12-04T21:31:21.604Z"
   },
   {
    "duration": 32,
    "start_time": "2022-12-04T21:31:24.981Z"
   },
   {
    "duration": 13,
    "start_time": "2022-12-04T21:31:28.821Z"
   },
   {
    "duration": 8,
    "start_time": "2022-12-04T21:31:30.634Z"
   },
   {
    "duration": 4,
    "start_time": "2022-12-04T21:31:34.909Z"
   },
   {
    "duration": 4,
    "start_time": "2022-12-04T21:31:54.584Z"
   },
   {
    "duration": 4,
    "start_time": "2022-12-04T21:32:08.969Z"
   },
   {
    "duration": 3,
    "start_time": "2022-12-04T21:34:09.291Z"
   },
   {
    "duration": 16,
    "start_time": "2022-12-04T21:34:31.733Z"
   },
   {
    "duration": 3,
    "start_time": "2022-12-04T21:34:38.128Z"
   },
   {
    "duration": 26,
    "start_time": "2022-12-04T21:36:02.296Z"
   },
   {
    "duration": 46,
    "start_time": "2022-12-04T21:38:51.766Z"
   },
   {
    "duration": 23,
    "start_time": "2022-12-04T21:38:59.829Z"
   },
   {
    "duration": 4,
    "start_time": "2022-12-04T21:39:22.925Z"
   },
   {
    "duration": 118,
    "start_time": "2022-12-04T21:39:27.880Z"
   },
   {
    "duration": 102,
    "start_time": "2022-12-04T21:39:34.970Z"
   },
   {
    "duration": 84,
    "start_time": "2022-12-04T21:39:49.189Z"
   },
   {
    "duration": 57,
    "start_time": "2022-12-04T21:39:57.679Z"
   },
   {
    "duration": 86,
    "start_time": "2022-12-04T21:40:05.302Z"
   },
   {
    "duration": 5,
    "start_time": "2022-12-04T21:40:10.175Z"
   },
   {
    "duration": 83,
    "start_time": "2022-12-04T21:40:21.485Z"
   },
   {
    "duration": 96,
    "start_time": "2022-12-04T21:40:36.878Z"
   },
   {
    "duration": 98,
    "start_time": "2022-12-04T21:40:44.951Z"
   },
   {
    "duration": 18,
    "start_time": "2022-12-04T21:41:39.664Z"
   },
   {
    "duration": 197,
    "start_time": "2022-12-04T21:43:56.256Z"
   },
   {
    "duration": 5,
    "start_time": "2022-12-04T21:43:58.207Z"
   },
   {
    "duration": 5,
    "start_time": "2022-12-04T21:43:59.265Z"
   },
   {
    "duration": 4,
    "start_time": "2022-12-04T21:43:59.713Z"
   },
   {
    "duration": 3,
    "start_time": "2022-12-04T21:44:01.606Z"
   },
   {
    "duration": 28,
    "start_time": "2022-12-04T21:44:05.063Z"
   },
   {
    "duration": 1283,
    "start_time": "2022-12-04T21:44:09.006Z"
   },
   {
    "duration": 1073,
    "start_time": "2022-12-04T21:44:42.626Z"
   },
   {
    "duration": 782,
    "start_time": "2022-12-04T21:46:21.282Z"
   },
   {
    "duration": 751,
    "start_time": "2022-12-04T21:46:30.067Z"
   },
   {
    "duration": 715,
    "start_time": "2022-12-04T21:47:01.137Z"
   },
   {
    "duration": 138,
    "start_time": "2022-12-04T21:50:17.934Z"
   },
   {
    "duration": 128,
    "start_time": "2022-12-04T21:50:22.310Z"
   },
   {
    "duration": 116,
    "start_time": "2022-12-04T21:50:39.300Z"
   },
   {
    "duration": 111,
    "start_time": "2022-12-04T21:50:48.382Z"
   },
   {
    "duration": 13,
    "start_time": "2022-12-04T21:50:52.646Z"
   },
   {
    "duration": 7,
    "start_time": "2022-12-04T21:50:55.249Z"
   },
   {
    "duration": 110,
    "start_time": "2022-12-04T21:50:57.807Z"
   },
   {
    "duration": 112,
    "start_time": "2022-12-04T21:51:00.501Z"
   },
   {
    "duration": 122,
    "start_time": "2022-12-04T21:51:57.157Z"
   },
   {
    "duration": 128,
    "start_time": "2022-12-04T21:52:03.749Z"
   },
   {
    "duration": 10,
    "start_time": "2022-12-04T21:53:07.214Z"
   },
   {
    "duration": 13,
    "start_time": "2022-12-04T21:53:13.497Z"
   },
   {
    "duration": 4,
    "start_time": "2022-12-04T21:53:30.894Z"
   },
   {
    "duration": 5,
    "start_time": "2022-12-04T21:53:35.558Z"
   },
   {
    "duration": 5,
    "start_time": "2022-12-04T21:54:35.786Z"
   },
   {
    "duration": 4,
    "start_time": "2022-12-04T21:56:05.992Z"
   },
   {
    "duration": 65,
    "start_time": "2022-12-04T21:56:05.997Z"
   },
   {
    "duration": 13,
    "start_time": "2022-12-04T21:56:06.063Z"
   },
   {
    "duration": 35,
    "start_time": "2022-12-04T21:56:06.078Z"
   },
   {
    "duration": 3862,
    "start_time": "2022-12-04T21:56:06.115Z"
   },
   {
    "duration": 7,
    "start_time": "2022-12-04T21:56:09.978Z"
   },
   {
    "duration": 24,
    "start_time": "2022-12-04T21:56:09.987Z"
   },
   {
    "duration": 19,
    "start_time": "2022-12-04T21:56:10.013Z"
   },
   {
    "duration": 29,
    "start_time": "2022-12-04T21:56:10.034Z"
   },
   {
    "duration": 15,
    "start_time": "2022-12-04T21:56:10.065Z"
   },
   {
    "duration": 12,
    "start_time": "2022-12-04T21:56:10.081Z"
   },
   {
    "duration": 88,
    "start_time": "2022-12-04T21:56:10.095Z"
   },
   {
    "duration": 103,
    "start_time": "2022-12-04T21:56:10.185Z"
   },
   {
    "duration": 2,
    "start_time": "2022-12-04T21:56:10.292Z"
   },
   {
    "duration": 161,
    "start_time": "2022-12-04T21:56:10.296Z"
   },
   {
    "duration": 204,
    "start_time": "2022-12-04T21:56:10.458Z"
   },
   {
    "duration": 23,
    "start_time": "2022-12-04T21:56:10.664Z"
   },
   {
    "duration": 263,
    "start_time": "2022-12-04T21:56:10.689Z"
   },
   {
    "duration": 16,
    "start_time": "2022-12-04T21:56:10.954Z"
   },
   {
    "duration": 202,
    "start_time": "2022-12-04T21:56:10.972Z"
   },
   {
    "duration": 128,
    "start_time": "2022-12-04T21:56:11.176Z"
   },
   {
    "duration": 4,
    "start_time": "2022-12-04T21:56:11.306Z"
   },
   {
    "duration": 13,
    "start_time": "2022-12-04T21:56:11.312Z"
   },
   {
    "duration": 12,
    "start_time": "2022-12-04T21:56:11.326Z"
   },
   {
    "duration": 28,
    "start_time": "2022-12-04T21:56:11.339Z"
   },
   {
    "duration": 48,
    "start_time": "2022-12-04T21:56:11.369Z"
   },
   {
    "duration": 604,
    "start_time": "2022-12-04T21:56:11.419Z"
   },
   {
    "duration": 131,
    "start_time": "2022-12-04T21:56:12.025Z"
   },
   {
    "duration": 133,
    "start_time": "2022-12-04T21:56:12.158Z"
   },
   {
    "duration": 6,
    "start_time": "2022-12-04T21:56:12.293Z"
   },
   {
    "duration": 18,
    "start_time": "2022-12-04T21:56:12.300Z"
   },
   {
    "duration": 4,
    "start_time": "2022-12-04T22:00:35.513Z"
   },
   {
    "duration": 1882,
    "start_time": "2022-12-04T22:02:59.872Z"
   },
   {
    "duration": 559,
    "start_time": "2022-12-04T22:03:38.682Z"
   },
   {
    "duration": 4,
    "start_time": "2022-12-04T22:06:30.150Z"
   },
   {
    "duration": 53,
    "start_time": "2022-12-04T22:07:38.003Z"
   },
   {
    "duration": 4,
    "start_time": "2022-12-04T22:07:56.409Z"
   },
   {
    "duration": 97,
    "start_time": "2022-12-04T22:08:04.056Z"
   },
   {
    "duration": 797,
    "start_time": "2022-12-04T22:09:01.145Z"
   },
   {
    "duration": 584,
    "start_time": "2022-12-04T22:09:23.059Z"
   },
   {
    "duration": 69,
    "start_time": "2022-12-04T22:10:59.787Z"
   },
   {
    "duration": 4,
    "start_time": "2022-12-04T22:11:14.883Z"
   },
   {
    "duration": 284,
    "start_time": "2022-12-04T22:11:21.158Z"
   },
   {
    "duration": 604,
    "start_time": "2022-12-04T22:11:35.971Z"
   },
   {
    "duration": 379,
    "start_time": "2022-12-04T22:11:36.819Z"
   },
   {
    "duration": 4,
    "start_time": "2022-12-04T22:12:38.406Z"
   },
   {
    "duration": 5,
    "start_time": "2022-12-04T22:13:11.918Z"
   },
   {
    "duration": 110,
    "start_time": "2022-12-04T22:13:52.129Z"
   },
   {
    "duration": 5,
    "start_time": "2022-12-04T22:14:23.622Z"
   },
   {
    "duration": 126,
    "start_time": "2022-12-04T22:14:39.576Z"
   },
   {
    "duration": 276,
    "start_time": "2022-12-04T22:18:27.948Z"
   },
   {
    "duration": 9603,
    "start_time": "2022-12-04T22:19:12.543Z"
   },
   {
    "duration": 9507,
    "start_time": "2022-12-04T22:19:30.553Z"
   },
   {
    "duration": 54,
    "start_time": "2022-12-04T22:21:34.260Z"
   },
   {
    "duration": 5,
    "start_time": "2022-12-04T22:23:53.298Z"
   },
   {
    "duration": 4,
    "start_time": "2022-12-04T22:23:55.145Z"
   },
   {
    "duration": 28674,
    "start_time": "2022-12-04T22:24:06.342Z"
   },
   {
    "duration": 140023,
    "start_time": "2022-12-04T22:24:59.379Z"
   },
   {
    "duration": 187956,
    "start_time": "2022-12-04T22:28:19.871Z"
   },
   {
    "duration": 7117,
    "start_time": "2022-12-04T22:32:00.778Z"
   },
   {
    "duration": 6689,
    "start_time": "2022-12-04T22:33:01.449Z"
   },
   {
    "duration": 354222,
    "start_time": "2022-12-04T22:34:04.409Z"
   },
   {
    "duration": 4344,
    "start_time": "2022-12-04T22:41:56.141Z"
   },
   {
    "duration": 246,
    "start_time": "2022-12-04T22:43:52.500Z"
   },
   {
    "duration": 4406,
    "start_time": "2022-12-04T22:46:03.592Z"
   },
   {
    "duration": 53,
    "start_time": "2022-12-05T13:29:20.517Z"
   },
   {
    "duration": 1509,
    "start_time": "2022-12-05T13:29:23.229Z"
   },
   {
    "duration": 83,
    "start_time": "2022-12-05T13:29:24.740Z"
   },
   {
    "duration": 18,
    "start_time": "2022-12-05T13:29:25.851Z"
   },
   {
    "duration": 14,
    "start_time": "2022-12-05T13:29:26.567Z"
   },
   {
    "duration": 48,
    "start_time": "2022-12-05T13:29:29.729Z"
   },
   {
    "duration": 19,
    "start_time": "2022-12-05T13:34:24.657Z"
   },
   {
    "duration": 12,
    "start_time": "2022-12-05T13:35:27.111Z"
   },
   {
    "duration": 10,
    "start_time": "2022-12-05T13:35:29.621Z"
   },
   {
    "duration": 5,
    "start_time": "2022-12-05T13:47:42.100Z"
   },
   {
    "duration": 6,
    "start_time": "2022-12-05T13:50:43.914Z"
   },
   {
    "duration": 93,
    "start_time": "2022-12-05T13:51:26.420Z"
   },
   {
    "duration": 77,
    "start_time": "2022-12-05T13:58:04.256Z"
   },
   {
    "duration": 9,
    "start_time": "2022-12-05T13:58:09.365Z"
   },
   {
    "duration": 3,
    "start_time": "2022-12-05T13:58:16.697Z"
   },
   {
    "duration": 21,
    "start_time": "2022-12-05T13:59:27.665Z"
   },
   {
    "duration": 182,
    "start_time": "2022-12-05T14:10:26.744Z"
   },
   {
    "duration": 2,
    "start_time": "2022-12-05T14:17:27.525Z"
   },
   {
    "duration": 4,
    "start_time": "2022-12-05T14:17:36.348Z"
   },
   {
    "duration": 37,
    "start_time": "2022-12-05T14:17:36.358Z"
   },
   {
    "duration": 11,
    "start_time": "2022-12-05T14:17:36.397Z"
   },
   {
    "duration": 25,
    "start_time": "2022-12-05T14:17:36.410Z"
   },
   {
    "duration": 21,
    "start_time": "2022-12-05T14:17:36.437Z"
   },
   {
    "duration": 19,
    "start_time": "2022-12-05T14:17:36.460Z"
   },
   {
    "duration": 11,
    "start_time": "2022-12-05T14:17:36.480Z"
   },
   {
    "duration": 9,
    "start_time": "2022-12-05T14:17:36.492Z"
   },
   {
    "duration": 828,
    "start_time": "2022-12-05T14:17:36.502Z"
   },
   {
    "duration": 7,
    "start_time": "2022-12-05T14:17:37.332Z"
   },
   {
    "duration": 91,
    "start_time": "2022-12-05T14:17:37.340Z"
   },
   {
    "duration": 93,
    "start_time": "2022-12-05T14:17:37.433Z"
   },
   {
    "duration": 132,
    "start_time": "2022-12-05T14:17:37.527Z"
   },
   {
    "duration": 153,
    "start_time": "2022-12-05T14:17:37.661Z"
   },
   {
    "duration": 23,
    "start_time": "2022-12-05T14:17:37.820Z"
   },
   {
    "duration": 239,
    "start_time": "2022-12-05T14:17:37.844Z"
   },
   {
    "duration": 177,
    "start_time": "2022-12-05T14:17:38.084Z"
   },
   {
    "duration": 145,
    "start_time": "2022-12-05T14:17:38.262Z"
   },
   {
    "duration": 3,
    "start_time": "2022-12-05T14:17:38.409Z"
   },
   {
    "duration": 15,
    "start_time": "2022-12-05T14:17:38.414Z"
   },
   {
    "duration": 12,
    "start_time": "2022-12-05T14:17:38.430Z"
   },
   {
    "duration": 5,
    "start_time": "2022-12-05T14:17:38.443Z"
   },
   {
    "duration": 25,
    "start_time": "2022-12-05T14:17:59.800Z"
   },
   {
    "duration": 3,
    "start_time": "2022-12-05T14:27:44.500Z"
   },
   {
    "duration": 49,
    "start_time": "2022-12-05T14:38:17.008Z"
   },
   {
    "duration": 5,
    "start_time": "2022-12-05T14:59:50.588Z"
   },
   {
    "duration": 55,
    "start_time": "2022-12-05T14:59:50.598Z"
   },
   {
    "duration": 16,
    "start_time": "2022-12-05T14:59:50.655Z"
   },
   {
    "duration": 13,
    "start_time": "2022-12-05T14:59:50.673Z"
   },
   {
    "duration": 13,
    "start_time": "2022-12-05T14:59:50.688Z"
   },
   {
    "duration": 24,
    "start_time": "2022-12-05T14:59:50.706Z"
   },
   {
    "duration": 11,
    "start_time": "2022-12-05T14:59:50.732Z"
   },
   {
    "duration": 32,
    "start_time": "2022-12-05T14:59:50.745Z"
   },
   {
    "duration": 752,
    "start_time": "2022-12-05T14:59:50.778Z"
   },
   {
    "duration": 8,
    "start_time": "2022-12-05T14:59:51.532Z"
   },
   {
    "duration": 111,
    "start_time": "2022-12-05T14:59:51.543Z"
   },
   {
    "duration": 176,
    "start_time": "2022-12-05T14:59:51.656Z"
   },
   {
    "duration": 139,
    "start_time": "2022-12-05T14:59:51.834Z"
   },
   {
    "duration": 159,
    "start_time": "2022-12-05T14:59:51.975Z"
   },
   {
    "duration": 21,
    "start_time": "2022-12-05T14:59:52.136Z"
   },
   {
    "duration": 243,
    "start_time": "2022-12-05T14:59:52.158Z"
   },
   {
    "duration": 199,
    "start_time": "2022-12-05T14:59:52.402Z"
   },
   {
    "duration": 131,
    "start_time": "2022-12-05T14:59:52.603Z"
   },
   {
    "duration": 5,
    "start_time": "2022-12-05T14:59:52.735Z"
   },
   {
    "duration": 8,
    "start_time": "2022-12-05T14:59:52.741Z"
   },
   {
    "duration": 11,
    "start_time": "2022-12-05T14:59:52.751Z"
   },
   {
    "duration": 14,
    "start_time": "2022-12-05T14:59:52.763Z"
   },
   {
    "duration": 60,
    "start_time": "2022-12-05T14:59:52.778Z"
   },
   {
    "duration": 560,
    "start_time": "2022-12-05T14:59:52.841Z"
   },
   {
    "duration": 5,
    "start_time": "2022-12-05T14:59:53.403Z"
   },
   {
    "duration": 122,
    "start_time": "2022-12-05T14:59:53.410Z"
   },
   {
    "duration": 490,
    "start_time": "2022-12-05T14:59:53.533Z"
   },
   {
    "duration": 6,
    "start_time": "2022-12-05T14:59:54.024Z"
   },
   {
    "duration": 175,
    "start_time": "2022-12-05T14:59:54.032Z"
   },
   {
    "duration": 616,
    "start_time": "2022-12-05T14:59:54.209Z"
   },
   {
    "duration": 128,
    "start_time": "2022-12-05T14:59:54.827Z"
   },
   {
    "duration": 274,
    "start_time": "2022-12-05T14:59:54.959Z"
   },
   {
    "duration": 5,
    "start_time": "2022-12-05T15:38:22.505Z"
   },
   {
    "duration": 46,
    "start_time": "2022-12-05T15:38:22.512Z"
   },
   {
    "duration": 12,
    "start_time": "2022-12-05T15:38:22.560Z"
   },
   {
    "duration": 32,
    "start_time": "2022-12-05T15:38:22.575Z"
   },
   {
    "duration": 12,
    "start_time": "2022-12-05T15:38:22.609Z"
   },
   {
    "duration": 19,
    "start_time": "2022-12-05T15:38:22.623Z"
   },
   {
    "duration": 15,
    "start_time": "2022-12-05T15:38:22.644Z"
   },
   {
    "duration": 10,
    "start_time": "2022-12-05T15:38:22.660Z"
   },
   {
    "duration": 853,
    "start_time": "2022-12-05T15:38:22.671Z"
   },
   {
    "duration": 7,
    "start_time": "2022-12-05T15:38:23.527Z"
   },
   {
    "duration": 105,
    "start_time": "2022-12-05T15:38:23.535Z"
   },
   {
    "duration": 86,
    "start_time": "2022-12-05T15:38:23.641Z"
   },
   {
    "duration": 137,
    "start_time": "2022-12-05T15:38:23.729Z"
   },
   {
    "duration": 155,
    "start_time": "2022-12-05T15:38:23.868Z"
   },
   {
    "duration": 22,
    "start_time": "2022-12-05T15:38:24.024Z"
   },
   {
    "duration": 224,
    "start_time": "2022-12-05T15:38:24.047Z"
   },
   {
    "duration": 168,
    "start_time": "2022-12-05T15:38:24.272Z"
   },
   {
    "duration": 126,
    "start_time": "2022-12-05T15:38:24.442Z"
   },
   {
    "duration": 4,
    "start_time": "2022-12-05T15:38:24.570Z"
   },
   {
    "duration": 11,
    "start_time": "2022-12-05T15:38:24.576Z"
   },
   {
    "duration": 16,
    "start_time": "2022-12-05T15:38:24.589Z"
   },
   {
    "duration": 22,
    "start_time": "2022-12-05T15:38:24.606Z"
   },
   {
    "duration": 44,
    "start_time": "2022-12-05T15:38:24.630Z"
   },
   {
    "duration": 538,
    "start_time": "2022-12-05T15:38:24.675Z"
   },
   {
    "duration": 8,
    "start_time": "2022-12-05T15:38:25.215Z"
   },
   {
    "duration": 108,
    "start_time": "2022-12-05T15:38:25.224Z"
   },
   {
    "duration": 414,
    "start_time": "2022-12-05T15:38:25.334Z"
   },
   {
    "duration": 6,
    "start_time": "2022-12-05T15:38:25.823Z"
   },
   {
    "duration": 166,
    "start_time": "2022-12-05T15:38:25.832Z"
   },
   {
    "duration": 524,
    "start_time": "2022-12-05T15:38:26.000Z"
   },
   {
    "duration": 210,
    "start_time": "2022-12-05T15:38:26.525Z"
   },
   {
    "duration": 290,
    "start_time": "2022-12-05T15:38:26.737Z"
   },
   {
    "duration": 177663,
    "start_time": "2022-12-05T15:38:27.028Z"
   },
   {
    "duration": 333895,
    "start_time": "2022-12-05T15:41:24.692Z"
   },
   {
    "duration": 4298,
    "start_time": "2022-12-05T15:46:58.589Z"
   },
   {
    "duration": 192,
    "start_time": "2022-12-05T15:47:02.889Z"
   },
   {
    "duration": 4189,
    "start_time": "2022-12-05T15:47:03.082Z"
   },
   {
    "duration": 1613,
    "start_time": "2022-12-07T21:07:31.285Z"
   },
   {
    "duration": 92,
    "start_time": "2022-12-07T21:07:32.900Z"
   },
   {
    "duration": 18,
    "start_time": "2022-12-07T21:07:32.994Z"
   },
   {
    "duration": 40,
    "start_time": "2022-12-07T21:07:33.013Z"
   },
   {
    "duration": 69,
    "start_time": "2022-12-07T21:07:33.058Z"
   },
   {
    "duration": 22,
    "start_time": "2022-12-07T21:07:33.129Z"
   },
   {
    "duration": 29,
    "start_time": "2022-12-07T21:07:33.153Z"
   },
   {
    "duration": 12,
    "start_time": "2022-12-07T21:07:33.183Z"
   },
   {
    "duration": 871,
    "start_time": "2022-12-07T21:07:33.196Z"
   },
   {
    "duration": 12,
    "start_time": "2022-12-07T21:07:34.068Z"
   },
   {
    "duration": 203,
    "start_time": "2022-12-07T21:07:34.082Z"
   },
   {
    "duration": 108,
    "start_time": "2022-12-07T21:07:34.287Z"
   },
   {
    "duration": 161,
    "start_time": "2022-12-07T21:07:34.397Z"
   },
   {
    "duration": 185,
    "start_time": "2022-12-07T21:07:34.561Z"
   },
   {
    "duration": 31,
    "start_time": "2022-12-07T21:07:34.748Z"
   },
   {
    "duration": 269,
    "start_time": "2022-12-07T21:07:34.781Z"
   },
   {
    "duration": 23,
    "start_time": "2022-12-07T21:14:22.732Z"
   },
   {
    "duration": 22,
    "start_time": "2022-12-07T21:19:05.582Z"
   },
   {
    "duration": 119,
    "start_time": "2022-12-07T21:22:37.285Z"
   },
   {
    "duration": 17,
    "start_time": "2022-12-07T21:22:44.574Z"
   },
   {
    "duration": 17,
    "start_time": "2022-12-07T21:22:54.779Z"
   },
   {
    "duration": 5,
    "start_time": "2022-12-07T21:23:38.652Z"
   },
   {
    "duration": 45,
    "start_time": "2022-12-07T21:23:38.659Z"
   },
   {
    "duration": 14,
    "start_time": "2022-12-07T21:23:38.706Z"
   },
   {
    "duration": 20,
    "start_time": "2022-12-07T21:23:38.722Z"
   },
   {
    "duration": 15,
    "start_time": "2022-12-07T21:23:38.744Z"
   },
   {
    "duration": 35,
    "start_time": "2022-12-07T21:23:38.761Z"
   },
   {
    "duration": 21,
    "start_time": "2022-12-07T21:23:38.798Z"
   },
   {
    "duration": 14,
    "start_time": "2022-12-07T21:23:38.822Z"
   },
   {
    "duration": 929,
    "start_time": "2022-12-07T21:23:38.838Z"
   },
   {
    "duration": 8,
    "start_time": "2022-12-07T21:23:39.769Z"
   },
   {
    "duration": 113,
    "start_time": "2022-12-07T21:23:39.779Z"
   },
   {
    "duration": 106,
    "start_time": "2022-12-07T21:23:39.894Z"
   },
   {
    "duration": 283,
    "start_time": "2022-12-07T21:23:40.002Z"
   },
   {
    "duration": 181,
    "start_time": "2022-12-07T21:23:40.288Z"
   },
   {
    "duration": 28,
    "start_time": "2022-12-07T21:23:40.471Z"
   },
   {
    "duration": 265,
    "start_time": "2022-12-07T21:23:40.501Z"
   },
   {
    "duration": 14,
    "start_time": "2022-12-07T21:23:44.013Z"
   },
   {
    "duration": 13,
    "start_time": "2022-12-07T21:23:55.121Z"
   },
   {
    "duration": 15,
    "start_time": "2022-12-07T21:24:02.617Z"
   },
   {
    "duration": 3,
    "start_time": "2022-12-07T21:27:25.903Z"
   },
   {
    "duration": 13,
    "start_time": "2022-12-07T21:30:08.192Z"
   },
   {
    "duration": 11,
    "start_time": "2022-12-07T21:32:06.685Z"
   },
   {
    "duration": 17,
    "start_time": "2022-12-07T21:32:18.751Z"
   },
   {
    "duration": 10,
    "start_time": "2022-12-07T21:32:57.674Z"
   },
   {
    "duration": 27,
    "start_time": "2022-12-07T21:33:02.955Z"
   },
   {
    "duration": 25,
    "start_time": "2022-12-07T21:33:28.719Z"
   },
   {
    "duration": 229,
    "start_time": "2022-12-07T21:33:31.630Z"
   },
   {
    "duration": 350,
    "start_time": "2022-12-07T21:33:53.907Z"
   },
   {
    "duration": 7,
    "start_time": "2022-12-07T21:35:00.295Z"
   },
   {
    "duration": 47,
    "start_time": "2022-12-07T21:35:00.304Z"
   },
   {
    "duration": 15,
    "start_time": "2022-12-07T21:35:00.352Z"
   },
   {
    "duration": 26,
    "start_time": "2022-12-07T21:35:00.369Z"
   },
   {
    "duration": 26,
    "start_time": "2022-12-07T21:35:00.398Z"
   },
   {
    "duration": 30,
    "start_time": "2022-12-07T21:35:00.425Z"
   },
   {
    "duration": 13,
    "start_time": "2022-12-07T21:35:00.456Z"
   },
   {
    "duration": 20,
    "start_time": "2022-12-07T21:35:00.470Z"
   },
   {
    "duration": 882,
    "start_time": "2022-12-07T21:35:00.492Z"
   },
   {
    "duration": 10,
    "start_time": "2022-12-07T21:35:01.377Z"
   },
   {
    "duration": 114,
    "start_time": "2022-12-07T21:35:01.390Z"
   },
   {
    "duration": 252,
    "start_time": "2022-12-07T21:35:01.506Z"
   },
   {
    "duration": 171,
    "start_time": "2022-12-07T21:35:01.760Z"
   },
   {
    "duration": 188,
    "start_time": "2022-12-07T21:35:01.934Z"
   },
   {
    "duration": 23,
    "start_time": "2022-12-07T21:35:02.124Z"
   },
   {
    "duration": 272,
    "start_time": "2022-12-07T21:35:02.149Z"
   },
   {
    "duration": 14,
    "start_time": "2022-12-07T21:35:02.423Z"
   },
   {
    "duration": 376,
    "start_time": "2022-12-07T21:35:06.212Z"
   },
   {
    "duration": 26,
    "start_time": "2022-12-07T21:36:52.211Z"
   },
   {
    "duration": 234,
    "start_time": "2022-12-07T21:36:54.745Z"
   },
   {
    "duration": 257,
    "start_time": "2022-12-07T21:37:03.642Z"
   },
   {
    "duration": 239,
    "start_time": "2022-12-07T21:37:15.693Z"
   },
   {
    "duration": 19,
    "start_time": "2022-12-07T21:37:23.973Z"
   },
   {
    "duration": 11,
    "start_time": "2022-12-07T21:39:16.293Z"
   },
   {
    "duration": 11,
    "start_time": "2022-12-07T21:39:19.169Z"
   },
   {
    "duration": 18,
    "start_time": "2022-12-07T21:39:31.538Z"
   },
   {
    "duration": 305,
    "start_time": "2022-12-07T21:39:35.639Z"
   },
   {
    "duration": 26,
    "start_time": "2022-12-07T21:39:58.933Z"
   },
   {
    "duration": 27,
    "start_time": "2022-12-07T21:40:15.510Z"
   },
   {
    "duration": 24,
    "start_time": "2022-12-07T21:40:22.523Z"
   },
   {
    "duration": 20,
    "start_time": "2022-12-07T21:40:33.164Z"
   },
   {
    "duration": 27,
    "start_time": "2022-12-07T21:40:37.644Z"
   },
   {
    "duration": 27,
    "start_time": "2022-12-07T21:42:08.018Z"
   },
   {
    "duration": 10,
    "start_time": "2022-12-07T21:42:23.715Z"
   },
   {
    "duration": 13,
    "start_time": "2022-12-07T21:42:36.275Z"
   },
   {
    "duration": 5,
    "start_time": "2022-12-07T21:42:37.415Z"
   },
   {
    "duration": 4,
    "start_time": "2022-12-07T21:42:37.815Z"
   },
   {
    "duration": 6,
    "start_time": "2022-12-07T21:42:38.277Z"
   },
   {
    "duration": 83,
    "start_time": "2022-12-07T21:47:25.941Z"
   },
   {
    "duration": 85,
    "start_time": "2022-12-07T21:47:35.949Z"
   },
   {
    "duration": 34,
    "start_time": "2022-12-07T21:50:28.657Z"
   },
   {
    "duration": 6,
    "start_time": "2022-12-07T21:51:13.716Z"
   },
   {
    "duration": 5,
    "start_time": "2022-12-07T21:57:13.214Z"
   },
   {
    "duration": 44,
    "start_time": "2022-12-07T21:57:13.221Z"
   },
   {
    "duration": 15,
    "start_time": "2022-12-07T21:57:13.267Z"
   },
   {
    "duration": 14,
    "start_time": "2022-12-07T21:57:13.284Z"
   },
   {
    "duration": 16,
    "start_time": "2022-12-07T21:57:13.300Z"
   },
   {
    "duration": 27,
    "start_time": "2022-12-07T21:57:13.318Z"
   },
   {
    "duration": 50,
    "start_time": "2022-12-07T21:57:13.347Z"
   },
   {
    "duration": 17,
    "start_time": "2022-12-07T21:57:13.399Z"
   },
   {
    "duration": 903,
    "start_time": "2022-12-07T21:57:13.418Z"
   },
   {
    "duration": 7,
    "start_time": "2022-12-07T21:57:14.323Z"
   },
   {
    "duration": 271,
    "start_time": "2022-12-07T21:57:14.332Z"
   },
   {
    "duration": 110,
    "start_time": "2022-12-07T21:57:14.605Z"
   },
   {
    "duration": 186,
    "start_time": "2022-12-07T21:57:14.717Z"
   },
   {
    "duration": 218,
    "start_time": "2022-12-07T21:57:14.908Z"
   },
   {
    "duration": 25,
    "start_time": "2022-12-07T21:57:15.128Z"
   },
   {
    "duration": 282,
    "start_time": "2022-12-07T21:57:15.155Z"
   },
   {
    "duration": 15,
    "start_time": "2022-12-07T21:57:15.439Z"
   },
   {
    "duration": 44,
    "start_time": "2022-12-07T21:57:15.455Z"
   },
   {
    "duration": 10,
    "start_time": "2022-12-07T21:57:15.501Z"
   },
   {
    "duration": 7,
    "start_time": "2022-12-07T21:57:15.513Z"
   },
   {
    "duration": 9,
    "start_time": "2022-12-07T21:57:15.522Z"
   },
   {
    "duration": 7,
    "start_time": "2022-12-07T21:57:15.533Z"
   },
   {
    "duration": 6,
    "start_time": "2022-12-07T21:57:15.542Z"
   },
   {
    "duration": 47,
    "start_time": "2022-12-07T21:57:15.550Z"
   },
   {
    "duration": 36,
    "start_time": "2022-12-07T21:57:15.599Z"
   },
   {
    "duration": 6,
    "start_time": "2022-12-07T21:57:15.636Z"
   },
   {
    "duration": 139,
    "start_time": "2022-12-07T21:57:15.644Z"
   },
   {
    "duration": 94,
    "start_time": "2022-12-07T21:57:15.785Z"
   },
   {
    "duration": 5,
    "start_time": "2022-12-07T21:57:15.881Z"
   },
   {
    "duration": 107,
    "start_time": "2022-12-07T21:57:15.888Z"
   },
   {
    "duration": 34,
    "start_time": "2022-12-07T21:57:15.997Z"
   },
   {
    "duration": 50,
    "start_time": "2022-12-07T21:57:16.033Z"
   },
   {
    "duration": 321,
    "start_time": "2022-12-07T21:57:16.085Z"
   },
   {
    "duration": 1998251,
    "start_time": "2022-12-07T21:59:37.602Z"
   },
   {
    "duration": 3,
    "start_time": "2022-12-07T22:32:55.856Z"
   },
   {
    "duration": 18,
    "start_time": "2022-12-07T22:32:55.861Z"
   },
   {
    "duration": 32,
    "start_time": "2022-12-07T22:32:55.883Z"
   },
   {
    "duration": 111,
    "start_time": "2022-12-07T22:32:55.980Z"
   },
   {
    "duration": 185,
    "start_time": "2022-12-07T22:32:56.093Z"
   },
   {
    "duration": 0,
    "start_time": "2022-12-07T22:32:56.280Z"
   },
   {
    "duration": 0,
    "start_time": "2022-12-07T22:32:56.282Z"
   },
   {
    "duration": 632,
    "start_time": "2022-12-07T22:34:39.568Z"
   },
   {
    "duration": 24,
    "start_time": "2022-12-07T22:34:52.883Z"
   },
   {
    "duration": 21,
    "start_time": "2022-12-07T22:34:53.980Z"
   },
   {
    "duration": 11,
    "start_time": "2022-12-07T22:35:21.697Z"
   },
   {
    "duration": 34,
    "start_time": "2022-12-07T22:35:23.851Z"
   },
   {
    "duration": 11,
    "start_time": "2022-12-07T22:35:31.085Z"
   },
   {
    "duration": 11,
    "start_time": "2022-12-07T22:35:57.453Z"
   },
   {
    "duration": 136,
    "start_time": "2022-12-07T22:36:07.648Z"
   },
   {
    "duration": 642,
    "start_time": "2022-12-07T22:36:37.098Z"
   },
   {
    "duration": 13,
    "start_time": "2022-12-07T22:36:42.154Z"
   },
   {
    "duration": 636,
    "start_time": "2022-12-07T22:36:45.468Z"
   },
   {
    "duration": 12,
    "start_time": "2022-12-07T22:37:04.250Z"
   },
   {
    "duration": 902,
    "start_time": "2022-12-07T22:37:08.175Z"
   },
   {
    "duration": 290,
    "start_time": "2022-12-07T22:38:43.196Z"
   },
   {
    "duration": 144,
    "start_time": "2022-12-07T22:38:54.747Z"
   },
   {
    "duration": 315,
    "start_time": "2022-12-07T22:39:09.103Z"
   },
   {
    "duration": 586,
    "start_time": "2022-12-07T22:40:04.548Z"
   },
   {
    "duration": 297,
    "start_time": "2022-12-07T22:40:18.765Z"
   },
   {
    "duration": 1487,
    "start_time": "2022-12-08T23:32:33.983Z"
   },
   {
    "duration": 92,
    "start_time": "2022-12-08T23:32:35.473Z"
   },
   {
    "duration": 17,
    "start_time": "2022-12-08T23:32:35.567Z"
   },
   {
    "duration": 20,
    "start_time": "2022-12-08T23:32:35.587Z"
   },
   {
    "duration": 66,
    "start_time": "2022-12-08T23:32:35.609Z"
   },
   {
    "duration": 25,
    "start_time": "2022-12-08T23:32:35.676Z"
   },
   {
    "duration": 46,
    "start_time": "2022-12-08T23:32:35.702Z"
   },
   {
    "duration": 54,
    "start_time": "2022-12-08T23:32:35.749Z"
   },
   {
    "duration": 822,
    "start_time": "2022-12-08T23:32:35.804Z"
   },
   {
    "duration": 7,
    "start_time": "2022-12-08T23:32:36.635Z"
   },
   {
    "duration": 200,
    "start_time": "2022-12-08T23:32:36.644Z"
   },
   {
    "duration": 97,
    "start_time": "2022-12-08T23:32:36.845Z"
   },
   {
    "duration": 143,
    "start_time": "2022-12-08T23:32:36.944Z"
   },
   {
    "duration": 168,
    "start_time": "2022-12-08T23:32:37.089Z"
   },
   {
    "duration": 22,
    "start_time": "2022-12-08T23:32:37.258Z"
   },
   {
    "duration": 243,
    "start_time": "2022-12-08T23:32:37.281Z"
   },
   {
    "duration": 19,
    "start_time": "2022-12-08T23:32:37.525Z"
   },
   {
    "duration": 10,
    "start_time": "2022-12-08T23:34:55.304Z"
   },
   {
    "duration": 115,
    "start_time": "2022-12-08T23:38:23.047Z"
   },
   {
    "duration": 5,
    "start_time": "2022-12-08T23:39:05.575Z"
   },
   {
    "duration": 65,
    "start_time": "2022-12-08T23:39:05.582Z"
   },
   {
    "duration": 14,
    "start_time": "2022-12-08T23:39:05.648Z"
   },
   {
    "duration": 45,
    "start_time": "2022-12-08T23:39:05.664Z"
   },
   {
    "duration": 44,
    "start_time": "2022-12-08T23:39:05.710Z"
   },
   {
    "duration": 20,
    "start_time": "2022-12-08T23:39:05.756Z"
   },
   {
    "duration": 13,
    "start_time": "2022-12-08T23:39:05.778Z"
   },
   {
    "duration": 11,
    "start_time": "2022-12-08T23:39:05.792Z"
   },
   {
    "duration": 775,
    "start_time": "2022-12-08T23:39:05.804Z"
   },
   {
    "duration": 7,
    "start_time": "2022-12-08T23:39:06.582Z"
   },
   {
    "duration": 109,
    "start_time": "2022-12-08T23:39:06.590Z"
   },
   {
    "duration": 117,
    "start_time": "2022-12-08T23:39:06.701Z"
   },
   {
    "duration": 246,
    "start_time": "2022-12-08T23:39:06.820Z"
   },
   {
    "duration": 167,
    "start_time": "2022-12-08T23:39:07.068Z"
   },
   {
    "duration": 22,
    "start_time": "2022-12-08T23:39:07.236Z"
   },
   {
    "duration": 239,
    "start_time": "2022-12-08T23:39:07.259Z"
   },
   {
    "duration": 13,
    "start_time": "2022-12-08T23:39:07.500Z"
   },
   {
    "duration": 4,
    "start_time": "2022-12-08T23:39:38.199Z"
   },
   {
    "duration": 17,
    "start_time": "2022-12-08T23:39:44.575Z"
   },
   {
    "duration": 5,
    "start_time": "2022-12-08T23:39:54.633Z"
   },
   {
    "duration": 9,
    "start_time": "2022-12-08T23:39:59.994Z"
   },
   {
    "duration": 5,
    "start_time": "2022-12-08T23:40:01.268Z"
   },
   {
    "duration": 5,
    "start_time": "2022-12-08T23:40:06.834Z"
   },
   {
    "duration": 19,
    "start_time": "2022-12-08T23:40:13.113Z"
   },
   {
    "duration": 15,
    "start_time": "2022-12-08T23:40:32.052Z"
   },
   {
    "duration": 14,
    "start_time": "2022-12-08T23:43:14.190Z"
   },
   {
    "duration": 18,
    "start_time": "2022-12-08T23:43:34.184Z"
   },
   {
    "duration": 154,
    "start_time": "2022-12-08T23:43:45.479Z"
   },
   {
    "duration": 6320,
    "start_time": "2022-12-08T23:44:32.070Z"
   },
   {
    "duration": 159,
    "start_time": "2022-12-08T23:44:41.880Z"
   },
   {
    "duration": 1235,
    "start_time": "2022-12-08T23:45:28.130Z"
   },
   {
    "duration": 41,
    "start_time": "2022-12-08T23:45:29.367Z"
   },
   {
    "duration": 16,
    "start_time": "2022-12-08T23:45:29.409Z"
   },
   {
    "duration": 14,
    "start_time": "2022-12-08T23:45:29.426Z"
   },
   {
    "duration": 47,
    "start_time": "2022-12-08T23:45:29.442Z"
   },
   {
    "duration": 21,
    "start_time": "2022-12-08T23:45:29.490Z"
   },
   {
    "duration": 32,
    "start_time": "2022-12-08T23:45:29.512Z"
   },
   {
    "duration": 10,
    "start_time": "2022-12-08T23:45:29.545Z"
   },
   {
    "duration": 791,
    "start_time": "2022-12-08T23:45:29.556Z"
   },
   {
    "duration": 6,
    "start_time": "2022-12-08T23:45:30.349Z"
   },
   {
    "duration": 99,
    "start_time": "2022-12-08T23:45:30.356Z"
   },
   {
    "duration": 160,
    "start_time": "2022-12-08T23:45:30.456Z"
   },
   {
    "duration": 142,
    "start_time": "2022-12-08T23:45:30.617Z"
   },
   {
    "duration": 155,
    "start_time": "2022-12-08T23:45:30.761Z"
   },
   {
    "duration": 30,
    "start_time": "2022-12-08T23:45:30.918Z"
   },
   {
    "duration": 231,
    "start_time": "2022-12-08T23:45:30.950Z"
   },
   {
    "duration": 13,
    "start_time": "2022-12-08T23:45:31.182Z"
   },
   {
    "duration": 17,
    "start_time": "2022-12-08T23:45:31.197Z"
   },
   {
    "duration": 28,
    "start_time": "2022-12-08T23:45:31.216Z"
   },
   {
    "duration": 17,
    "start_time": "2022-12-08T23:45:34.864Z"
   },
   {
    "duration": 1202,
    "start_time": "2022-12-08T23:45:36.665Z"
   },
   {
    "duration": 33,
    "start_time": "2022-12-08T23:46:02.151Z"
   },
   {
    "duration": 13,
    "start_time": "2022-12-08T23:46:47.869Z"
   },
   {
    "duration": 18,
    "start_time": "2022-12-08T23:46:57.085Z"
   },
   {
    "duration": 16,
    "start_time": "2022-12-08T23:47:30.046Z"
   },
   {
    "duration": 5,
    "start_time": "2022-12-08T23:47:32.961Z"
   },
   {
    "duration": 72,
    "start_time": "2022-12-08T23:47:32.967Z"
   },
   {
    "duration": 12,
    "start_time": "2022-12-08T23:47:33.041Z"
   },
   {
    "duration": 22,
    "start_time": "2022-12-08T23:47:33.055Z"
   },
   {
    "duration": 14,
    "start_time": "2022-12-08T23:47:33.080Z"
   },
   {
    "duration": 19,
    "start_time": "2022-12-08T23:47:33.096Z"
   },
   {
    "duration": 11,
    "start_time": "2022-12-08T23:47:33.135Z"
   },
   {
    "duration": 44,
    "start_time": "2022-12-08T23:47:33.148Z"
   },
   {
    "duration": 714,
    "start_time": "2022-12-08T23:47:33.194Z"
   },
   {
    "duration": 9,
    "start_time": "2022-12-08T23:47:33.910Z"
   },
   {
    "duration": 96,
    "start_time": "2022-12-08T23:47:33.920Z"
   },
   {
    "duration": 94,
    "start_time": "2022-12-08T23:47:34.018Z"
   },
   {
    "duration": 142,
    "start_time": "2022-12-08T23:47:34.114Z"
   },
   {
    "duration": 263,
    "start_time": "2022-12-08T23:47:34.259Z"
   },
   {
    "duration": 25,
    "start_time": "2022-12-08T23:47:34.524Z"
   },
   {
    "duration": 235,
    "start_time": "2022-12-08T23:47:34.551Z"
   },
   {
    "duration": 13,
    "start_time": "2022-12-08T23:47:49.309Z"
   },
   {
    "duration": 9,
    "start_time": "2022-12-08T23:48:10.667Z"
   },
   {
    "duration": 12,
    "start_time": "2022-12-08T23:48:12.272Z"
   },
   {
    "duration": 24,
    "start_time": "2022-12-08T23:50:44.489Z"
   },
   {
    "duration": 13,
    "start_time": "2022-12-08T23:51:05.880Z"
   },
   {
    "duration": 1376,
    "start_time": "2022-12-08T23:55:01.746Z"
   },
   {
    "duration": 23,
    "start_time": "2022-12-08T23:56:49.757Z"
   },
   {
    "duration": 83,
    "start_time": "2022-12-08T23:57:47.655Z"
   },
   {
    "duration": 10,
    "start_time": "2022-12-08T23:58:12.406Z"
   },
   {
    "duration": 65,
    "start_time": "2022-12-08T23:58:37.384Z"
   },
   {
    "duration": 8,
    "start_time": "2022-12-08T23:58:49.043Z"
   },
   {
    "duration": 82,
    "start_time": "2022-12-08T23:59:09.940Z"
   },
   {
    "duration": 651,
    "start_time": "2022-12-09T00:06:06.842Z"
   },
   {
    "duration": 19,
    "start_time": "2022-12-09T00:06:19.087Z"
   },
   {
    "duration": 644,
    "start_time": "2022-12-09T00:06:29.538Z"
   },
   {
    "duration": 38,
    "start_time": "2022-12-09T00:06:32.472Z"
   },
   {
    "duration": 18,
    "start_time": "2022-12-09T00:07:24.440Z"
   },
   {
    "duration": 24,
    "start_time": "2022-12-09T00:07:52.339Z"
   },
   {
    "duration": 4,
    "start_time": "2022-12-09T00:07:59.964Z"
   },
   {
    "duration": 69,
    "start_time": "2022-12-09T00:07:59.969Z"
   },
   {
    "duration": 12,
    "start_time": "2022-12-09T00:08:00.039Z"
   },
   {
    "duration": 29,
    "start_time": "2022-12-09T00:08:00.052Z"
   },
   {
    "duration": 25,
    "start_time": "2022-12-09T00:08:00.083Z"
   },
   {
    "duration": 18,
    "start_time": "2022-12-09T00:08:00.110Z"
   },
   {
    "duration": 13,
    "start_time": "2022-12-09T00:08:00.129Z"
   },
   {
    "duration": 33,
    "start_time": "2022-12-09T00:08:00.143Z"
   },
   {
    "duration": 698,
    "start_time": "2022-12-09T00:08:00.178Z"
   },
   {
    "duration": 6,
    "start_time": "2022-12-09T00:08:00.879Z"
   },
   {
    "duration": 95,
    "start_time": "2022-12-09T00:08:00.887Z"
   },
   {
    "duration": 86,
    "start_time": "2022-12-09T00:08:00.984Z"
   },
   {
    "duration": 128,
    "start_time": "2022-12-09T00:08:01.071Z"
   },
   {
    "duration": 154,
    "start_time": "2022-12-09T00:08:01.201Z"
   },
   {
    "duration": 19,
    "start_time": "2022-12-09T00:08:01.357Z"
   },
   {
    "duration": 227,
    "start_time": "2022-12-09T00:08:01.378Z"
   },
   {
    "duration": 13,
    "start_time": "2022-12-09T00:08:01.607Z"
   },
   {
    "duration": 22,
    "start_time": "2022-12-09T00:08:01.622Z"
   },
   {
    "duration": 10,
    "start_time": "2022-12-09T00:08:04.014Z"
   },
   {
    "duration": 400,
    "start_time": "2022-12-09T00:08:07.016Z"
   },
   {
    "duration": 14,
    "start_time": "2022-12-09T00:08:08.714Z"
   },
   {
    "duration": 5,
    "start_time": "2022-12-09T00:09:36.534Z"
   },
   {
    "duration": 79,
    "start_time": "2022-12-09T00:09:36.541Z"
   },
   {
    "duration": 14,
    "start_time": "2022-12-09T00:09:36.622Z"
   },
   {
    "duration": 29,
    "start_time": "2022-12-09T00:09:36.638Z"
   },
   {
    "duration": 40,
    "start_time": "2022-12-09T00:09:36.669Z"
   },
   {
    "duration": 48,
    "start_time": "2022-12-09T00:09:36.711Z"
   },
   {
    "duration": 44,
    "start_time": "2022-12-09T00:09:36.760Z"
   },
   {
    "duration": 21,
    "start_time": "2022-12-09T00:09:36.806Z"
   },
   {
    "duration": 801,
    "start_time": "2022-12-09T00:09:36.829Z"
   },
   {
    "duration": 10,
    "start_time": "2022-12-09T00:09:37.631Z"
   },
   {
    "duration": 108,
    "start_time": "2022-12-09T00:09:37.643Z"
   },
   {
    "duration": 98,
    "start_time": "2022-12-09T00:09:37.753Z"
   },
   {
    "duration": 155,
    "start_time": "2022-12-09T00:09:37.853Z"
   },
   {
    "duration": 174,
    "start_time": "2022-12-09T00:09:38.012Z"
   },
   {
    "duration": 23,
    "start_time": "2022-12-09T00:09:38.188Z"
   },
   {
    "duration": 343,
    "start_time": "2022-12-09T00:09:38.213Z"
   },
   {
    "duration": 14,
    "start_time": "2022-12-09T00:09:38.558Z"
   },
   {
    "duration": 32,
    "start_time": "2022-12-09T00:09:38.573Z"
   },
   {
    "duration": 1643,
    "start_time": "2022-12-09T22:30:01.087Z"
   },
   {
    "duration": 90,
    "start_time": "2022-12-09T22:30:02.732Z"
   },
   {
    "duration": 16,
    "start_time": "2022-12-09T22:30:02.824Z"
   },
   {
    "duration": 12,
    "start_time": "2022-12-09T22:30:02.841Z"
   },
   {
    "duration": 49,
    "start_time": "2022-12-09T22:30:02.855Z"
   },
   {
    "duration": 19,
    "start_time": "2022-12-09T22:30:02.917Z"
   },
   {
    "duration": 18,
    "start_time": "2022-12-09T22:30:02.937Z"
   },
   {
    "duration": 14,
    "start_time": "2022-12-09T22:30:02.956Z"
   },
   {
    "duration": 767,
    "start_time": "2022-12-09T22:30:02.971Z"
   },
   {
    "duration": 7,
    "start_time": "2022-12-09T22:30:03.740Z"
   },
   {
    "duration": 156,
    "start_time": "2022-12-09T22:30:03.748Z"
   },
   {
    "duration": 83,
    "start_time": "2022-12-09T22:30:03.906Z"
   },
   {
    "duration": 143,
    "start_time": "2022-12-09T22:30:03.990Z"
   },
   {
    "duration": 159,
    "start_time": "2022-12-09T22:30:04.135Z"
   },
   {
    "duration": 25,
    "start_time": "2022-12-09T22:30:04.296Z"
   },
   {
    "duration": 224,
    "start_time": "2022-12-09T22:30:04.323Z"
   },
   {
    "duration": 13,
    "start_time": "2022-12-09T22:30:04.549Z"
   },
   {
    "duration": 16,
    "start_time": "2022-12-09T22:30:04.563Z"
   },
   {
    "duration": 18,
    "start_time": "2022-12-09T22:30:12.001Z"
   },
   {
    "duration": 2,
    "start_time": "2022-12-09T22:30:46.161Z"
   },
   {
    "duration": 16,
    "start_time": "2022-12-09T22:31:00.744Z"
   },
   {
    "duration": 16,
    "start_time": "2022-12-09T22:31:02.827Z"
   },
   {
    "duration": 16,
    "start_time": "2022-12-09T22:31:12.907Z"
   },
   {
    "duration": 123,
    "start_time": "2022-12-09T22:31:40.060Z"
   },
   {
    "duration": 17,
    "start_time": "2022-12-09T22:31:45.550Z"
   },
   {
    "duration": 119,
    "start_time": "2022-12-09T22:31:52.850Z"
   },
   {
    "duration": 16,
    "start_time": "2022-12-09T22:31:56.693Z"
   },
   {
    "duration": 121,
    "start_time": "2022-12-09T22:32:23.006Z"
   },
   {
    "duration": 159,
    "start_time": "2022-12-09T22:32:31.926Z"
   },
   {
    "duration": 2,
    "start_time": "2022-12-09T22:32:53.059Z"
   },
   {
    "duration": 20,
    "start_time": "2022-12-09T22:32:58.353Z"
   },
   {
    "duration": 13,
    "start_time": "2022-12-09T22:33:09.692Z"
   },
   {
    "duration": 13,
    "start_time": "2022-12-09T22:33:21.879Z"
   },
   {
    "duration": 12,
    "start_time": "2022-12-09T22:35:46.064Z"
   },
   {
    "duration": 14,
    "start_time": "2022-12-09T22:35:50.301Z"
   },
   {
    "duration": 15,
    "start_time": "2022-12-09T22:36:00.266Z"
   },
   {
    "duration": 9,
    "start_time": "2022-12-09T22:37:09.993Z"
   },
   {
    "duration": 4,
    "start_time": "2022-12-09T22:37:18.811Z"
   },
   {
    "duration": 5,
    "start_time": "2022-12-09T22:37:41.091Z"
   },
   {
    "duration": 7,
    "start_time": "2022-12-09T22:37:50.090Z"
   },
   {
    "duration": 10,
    "start_time": "2022-12-09T22:37:58.368Z"
   },
   {
    "duration": 11,
    "start_time": "2022-12-09T22:38:49.513Z"
   },
   {
    "duration": 7,
    "start_time": "2022-12-09T22:38:53.658Z"
   },
   {
    "duration": 15,
    "start_time": "2022-12-09T22:38:54.352Z"
   },
   {
    "duration": 4,
    "start_time": "2022-12-09T22:40:49.697Z"
   },
   {
    "duration": 15,
    "start_time": "2022-12-09T22:41:51.279Z"
   },
   {
    "duration": 10,
    "start_time": "2022-12-09T22:42:27.377Z"
   },
   {
    "duration": 15,
    "start_time": "2022-12-09T22:42:30.650Z"
   },
   {
    "duration": 7,
    "start_time": "2022-12-09T22:42:48.554Z"
   },
   {
    "duration": 21,
    "start_time": "2022-12-09T22:42:49.228Z"
   },
   {
    "duration": 2,
    "start_time": "2022-12-09T22:43:30.960Z"
   },
   {
    "duration": 4,
    "start_time": "2022-12-09T22:43:32.464Z"
   },
   {
    "duration": 7,
    "start_time": "2022-12-09T22:43:33.419Z"
   },
   {
    "duration": 26,
    "start_time": "2022-12-09T22:43:34.328Z"
   },
   {
    "duration": 22,
    "start_time": "2022-12-09T22:44:25.660Z"
   },
   {
    "duration": 16,
    "start_time": "2022-12-09T22:44:34.725Z"
   },
   {
    "duration": 17,
    "start_time": "2022-12-09T22:44:49.641Z"
   },
   {
    "duration": 13,
    "start_time": "2022-12-09T22:45:54.283Z"
   },
   {
    "duration": 18,
    "start_time": "2022-12-09T22:46:19.963Z"
   },
   {
    "duration": 16,
    "start_time": "2022-12-09T22:46:27.538Z"
   },
   {
    "duration": 3,
    "start_time": "2022-12-09T22:46:36.853Z"
   },
   {
    "duration": 9,
    "start_time": "2022-12-09T22:46:57.000Z"
   },
   {
    "duration": 195,
    "start_time": "2022-12-09T22:47:00.740Z"
   },
   {
    "duration": 4,
    "start_time": "2022-12-09T22:54:32.260Z"
   },
   {
    "duration": 40,
    "start_time": "2022-12-09T22:54:32.276Z"
   },
   {
    "duration": 11,
    "start_time": "2022-12-09T22:54:32.318Z"
   },
   {
    "duration": 13,
    "start_time": "2022-12-09T22:54:32.330Z"
   },
   {
    "duration": 22,
    "start_time": "2022-12-09T22:54:32.344Z"
   },
   {
    "duration": 20,
    "start_time": "2022-12-09T22:54:32.368Z"
   },
   {
    "duration": 11,
    "start_time": "2022-12-09T22:54:32.389Z"
   },
   {
    "duration": 24,
    "start_time": "2022-12-09T22:54:32.401Z"
   },
   {
    "duration": 737,
    "start_time": "2022-12-09T22:54:32.427Z"
   },
   {
    "duration": 7,
    "start_time": "2022-12-09T22:54:33.165Z"
   },
   {
    "duration": 200,
    "start_time": "2022-12-09T22:54:33.173Z"
   },
   {
    "duration": 91,
    "start_time": "2022-12-09T22:54:33.375Z"
   },
   {
    "duration": 136,
    "start_time": "2022-12-09T22:54:33.467Z"
   },
   {
    "duration": 168,
    "start_time": "2022-12-09T22:54:33.605Z"
   },
   {
    "duration": 22,
    "start_time": "2022-12-09T22:54:33.777Z"
   },
   {
    "duration": 231,
    "start_time": "2022-12-09T22:54:33.815Z"
   },
   {
    "duration": 12,
    "start_time": "2022-12-09T22:54:34.048Z"
   },
   {
    "duration": 295,
    "start_time": "2022-12-09T22:55:08.088Z"
   },
   {
    "duration": 2,
    "start_time": "2022-12-09T22:55:43.274Z"
   },
   {
    "duration": 18,
    "start_time": "2022-12-09T22:55:45.003Z"
   },
   {
    "duration": 22,
    "start_time": "2022-12-09T22:55:46.132Z"
   },
   {
    "duration": 18,
    "start_time": "2022-12-09T22:58:20.862Z"
   },
   {
    "duration": 14,
    "start_time": "2022-12-09T22:58:39.317Z"
   },
   {
    "duration": 12,
    "start_time": "2022-12-09T22:58:53.725Z"
   },
   {
    "duration": 4,
    "start_time": "2022-12-09T22:59:02.431Z"
   },
   {
    "duration": 2,
    "start_time": "2022-12-09T22:59:05.971Z"
   },
   {
    "duration": 12,
    "start_time": "2022-12-09T22:59:08.420Z"
   },
   {
    "duration": 15,
    "start_time": "2022-12-09T22:59:16.255Z"
   },
   {
    "duration": 3,
    "start_time": "2022-12-09T22:59:24.613Z"
   },
   {
    "duration": 58,
    "start_time": "2022-12-09T22:59:24.618Z"
   },
   {
    "duration": 12,
    "start_time": "2022-12-09T22:59:24.677Z"
   },
   {
    "duration": 22,
    "start_time": "2022-12-09T22:59:24.690Z"
   },
   {
    "duration": 15,
    "start_time": "2022-12-09T22:59:24.715Z"
   },
   {
    "duration": 24,
    "start_time": "2022-12-09T22:59:24.732Z"
   },
   {
    "duration": 13,
    "start_time": "2022-12-09T22:59:24.757Z"
   },
   {
    "duration": 18,
    "start_time": "2022-12-09T22:59:24.772Z"
   },
   {
    "duration": 710,
    "start_time": "2022-12-09T22:59:24.792Z"
   },
   {
    "duration": 12,
    "start_time": "2022-12-09T22:59:25.503Z"
   },
   {
    "duration": 79,
    "start_time": "2022-12-09T22:59:25.517Z"
   },
   {
    "duration": 88,
    "start_time": "2022-12-09T22:59:25.598Z"
   },
   {
    "duration": 135,
    "start_time": "2022-12-09T22:59:25.687Z"
   },
   {
    "duration": 265,
    "start_time": "2022-12-09T22:59:25.825Z"
   },
   {
    "duration": 24,
    "start_time": "2022-12-09T22:59:26.092Z"
   },
   {
    "duration": 256,
    "start_time": "2022-12-09T22:59:26.117Z"
   },
   {
    "duration": 15,
    "start_time": "2022-12-09T22:59:26.375Z"
   },
   {
    "duration": 23,
    "start_time": "2022-12-09T22:59:26.391Z"
   },
   {
    "duration": 14,
    "start_time": "2022-12-09T22:59:26.415Z"
   },
   {
    "duration": 19,
    "start_time": "2022-12-09T22:59:33.814Z"
   },
   {
    "duration": 5,
    "start_time": "2022-12-09T22:59:45.955Z"
   },
   {
    "duration": 3,
    "start_time": "2022-12-09T22:59:48.683Z"
   },
   {
    "duration": 4,
    "start_time": "2022-12-09T22:59:50.190Z"
   },
   {
    "duration": 10,
    "start_time": "2022-12-09T23:00:50.053Z"
   },
   {
    "duration": 20,
    "start_time": "2022-12-09T23:00:51.690Z"
   },
   {
    "duration": 3,
    "start_time": "2022-12-09T23:00:55.421Z"
   },
   {
    "duration": 4,
    "start_time": "2022-12-09T23:00:56.861Z"
   },
   {
    "duration": 4,
    "start_time": "2022-12-09T23:00:57.685Z"
   },
   {
    "duration": 20,
    "start_time": "2022-12-09T23:01:16.322Z"
   },
   {
    "duration": 4,
    "start_time": "2022-12-09T23:01:53.433Z"
   },
   {
    "duration": 3,
    "start_time": "2022-12-09T23:02:08.490Z"
   },
   {
    "duration": 23,
    "start_time": "2022-12-09T23:02:09.274Z"
   },
   {
    "duration": 35,
    "start_time": "2022-12-09T23:02:16.207Z"
   },
   {
    "duration": 6,
    "start_time": "2022-12-09T23:02:20.395Z"
   },
   {
    "duration": 9,
    "start_time": "2022-12-09T23:02:24.231Z"
   },
   {
    "duration": 100,
    "start_time": "2022-12-09T23:02:37.198Z"
   },
   {
    "duration": 28,
    "start_time": "2022-12-09T23:02:45.989Z"
   },
   {
    "duration": 26,
    "start_time": "2022-12-09T23:02:50.024Z"
   },
   {
    "duration": 3,
    "start_time": "2022-12-09T23:02:53.533Z"
   },
   {
    "duration": 7,
    "start_time": "2022-12-09T23:02:56.423Z"
   },
   {
    "duration": 40,
    "start_time": "2022-12-09T23:02:58.252Z"
   },
   {
    "duration": 9,
    "start_time": "2022-12-09T23:03:00.516Z"
   },
   {
    "duration": 111,
    "start_time": "2022-12-09T23:03:04.722Z"
   },
   {
    "duration": 562,
    "start_time": "2022-12-09T23:03:10.747Z"
   },
   {
    "duration": 572,
    "start_time": "2022-12-09T23:03:13.766Z"
   },
   {
    "duration": 812,
    "start_time": "2022-12-09T23:03:15.615Z"
   },
   {
    "duration": 1758791,
    "start_time": "2022-12-09T23:03:42.946Z"
   },
   {
    "duration": 239,
    "start_time": "2022-12-09T23:40:31.380Z"
   },
   {
    "duration": 146,
    "start_time": "2022-12-09T23:40:37.516Z"
   },
   {
    "duration": 237,
    "start_time": "2022-12-09T23:40:40.519Z"
   },
   {
    "duration": 249,
    "start_time": "2022-12-09T23:41:12.241Z"
   },
   {
    "duration": 182,
    "start_time": "2022-12-09T23:42:23.146Z"
   },
   {
    "duration": 443,
    "start_time": "2022-12-09T23:48:17.047Z"
   },
   {
    "duration": 453,
    "start_time": "2022-12-09T23:48:38.951Z"
   }
  ],
  "kernelspec": {
   "display_name": "Python 3 (ipykernel)",
   "language": "python",
   "name": "python3"
  },
  "language_info": {
   "codemirror_mode": {
    "name": "ipython",
    "version": 3
   },
   "file_extension": ".py",
   "mimetype": "text/x-python",
   "name": "python",
   "nbconvert_exporter": "python",
   "pygments_lexer": "ipython3",
   "version": "3.9.13"
  },
  "toc": {
   "base_numbering": 1,
   "nav_menu": {},
   "number_sections": true,
   "sideBar": true,
   "skip_h1_title": true,
   "title_cell": "Содержание",
   "title_sidebar": "Contents",
   "toc_cell": true,
   "toc_position": {
    "height": "609px",
    "left": "1258px",
    "top": "626.141px",
    "width": "243px"
   },
   "toc_section_display": true,
   "toc_window_display": false
  }
 },
 "nbformat": 4,
 "nbformat_minor": 2
}
